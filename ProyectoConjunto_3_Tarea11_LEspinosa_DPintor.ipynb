{
 "cells": [
  {
   "cell_type": "markdown",
   "metadata": {},
   "source": [
    "<img style=\"float: left; margin: 30px 15px 15px 15px;\" src=\"https://pngimage.net/wp-content/uploads/2018/06/logo-iteso-png-5.png\" width=\"300\" height=\"500\" /> \n",
    "    \n",
    "    \n",
    "### <font color='navy'> Simulación de procesos financieros. \n",
    "\n",
    "**Nombres:** Diego Pintor Ochoa, Lyha Espinosa García\n",
    "\n",
    "**Fecha:** 07 de mayo del 2021.\n",
    "\n",
    "**Expediente** : if72622, if721861.\n",
    "**Profesor:** Oscar David Jaramillo Zuluaga.\n",
    "\n",
    "# Tarea 11: Clase 24"
   ]
  },
  {
   "cell_type": "markdown",
   "metadata": {},
   "source": [
    "[Liga al repositorio](https://github.com/PintorOD1997/ProyectoConjunto_LEspinosa_DPintor.git)"
   ]
  },
  {
   "cell_type": "markdown",
   "metadata": {},
   "source": [
    "## Enunciado de tarea \n",
    "Realizar la valuación de las opciones barrera para las acciones de Microsoft, siguiendo los siguientes lineamientos:\n",
    "1. Realizar la valuación para el tipo de opción barrera 'CALL'- down-and-out, usando la suposición de rendimientos normales y usando el método del histograma. Para ambas valuaciones, comparar los resultados de la evaluación obtenida con los resultados obtenidos por la valuación Europea. Como se realizó en clase.\n",
    "2. Repetir el inciso anterior pero en esta ocasión para el caso de 'PUT'- Up-and-out.\n",
    "\n",
    "**Nota:** Analice los datos descargados y según el método ya sea `down-and-out` o `Up-and-out` defina un strike price usando la volatility smile vista en la clase de opciones europeas y basado en el spot price y el strike defina una barrera adecuada.\n",
    "\n",
    "Se habilitará un enlace en canvas para subir un cuaderno de python, con la solución.\n",
    "\n",
    "**Criterio de revisión.**\n",
    "\n",
    "> Se te calificará de acuerdo a los resultados finales que reportes, basados en tu análisis."
   ]
  },
  {
   "cell_type": "markdown",
   "metadata": {},
   "source": [
    "### Solución Lyha Espinosa"
   ]
  },
  {
   "cell_type": "code",
   "execution_count": 1,
   "metadata": {},
   "outputs": [],
   "source": [
    "#importar los paquetes que se van a usar\n",
    "import pandas as pd\n",
    "import pandas_datareader.data as web\n",
    "import numpy as np\n",
    "import datetime\n",
    "import matplotlib.pyplot as plt\n",
    "import scipy.stats as st\n",
    "import seaborn as sns\n",
    "%matplotlib inline\n",
    "#algunas opciones para Pandas\n",
    "pd.set_option('display.notebook_repr_html', True)\n",
    "pd.set_option('display.max_columns', 6)\n",
    "pd.set_option('display.max_rows', 10)\n",
    "pd.set_option('display.width', 78)\n",
    "pd.set_option('precision', 3)"
   ]
  },
  {
   "cell_type": "code",
   "execution_count": 2,
   "metadata": {},
   "outputs": [],
   "source": [
    "# Función para descargar precios de cierre ajustados:\n",
    "def get_adj_closes(tickers, start_date=None, end_date=None):\n",
    "    # Fecha inicio por defecto (start_date='2010-01-01') y fecha fin por defecto (end_date=today)\n",
    "    # Descargamos DataFrame con todos los datos\n",
    "    closes = web.DataReader(name=tickers, data_source='yahoo', start=start_date, end=end_date)\n",
    "    # Solo necesitamos los precios ajustados en el cierre\n",
    "    closes = closes['Adj Close']\n",
    "    # Se ordenan los índices de manera ascendente\n",
    "    closes.sort_index(inplace=True)\n",
    "    return closes\n",
    "\n",
    "####### Calculation of log-returns\n",
    "def calc_daily_ret(closes):\n",
    "    return np.log(closes/closes.shift(1)).dropna()"
   ]
  },
  {
   "cell_type": "markdown",
   "metadata": {},
   "source": [
    "# 1. Opción barrera 'CALL'- down-and-out"
   ]
  },
  {
   "cell_type": "code",
   "execution_count": 3,
   "metadata": {},
   "outputs": [],
   "source": [
    "closes = get_adj_closes(['MSFT'], '2017-01-01')\n",
    "closes_micro = closes.loc[:,'MSFT']"
   ]
  },
  {
   "cell_type": "code",
   "execution_count": 4,
   "metadata": {},
   "outputs": [
    {
     "data": {
      "text/plain": [
       "<AxesSubplot:xlabel='Date'>"
      ]
     },
     "execution_count": 4,
     "metadata": {},
     "output_type": "execute_result"
    },
    {
     "data": {
      "image/png": "[encoded data removed]",
      "text/plain": [
       "<Figure size 432x288 with 1 Axes>"
      ]
     },
     "metadata": {
      "needs_background": "light"
     },
     "output_type": "display_data"
    }
   ],
   "source": [
    "closes_micro.plot()"
   ]
  },
  {
   "cell_type": "markdown",
   "metadata": {},
   "source": [
    "### Calcular Rendimientos"
   ]
  },
  {
   "cell_type": "code",
   "execution_count": 5,
   "metadata": {},
   "outputs": [],
   "source": [
    "ret_micro = calc_daily_ret(closes_micro)"
   ]
  },
  {
   "cell_type": "markdown",
   "metadata": {},
   "source": [
    "### Datos de opciones"
   ]
  },
  {
   "cell_type": "code",
   "execution_count": 6,
   "metadata": {},
   "outputs": [
    {
     "data": {
      "text/html": [
       "<div>\n",
       "<style scoped>\n",
       "    .dataframe tbody tr th:only-of-type {\n",
       "        vertical-align: middle;\n",
       "    }\n",
       "\n",
       "    .dataframe tbody tr th {\n",
       "        vertical-align: top;\n",
       "    }\n",
       "\n",
       "    .dataframe thead th {\n",
       "        text-align: right;\n",
       "    }\n",
       "</style>\n",
       "<table border=\"1\" class=\"dataframe\">\n",
       "  <thead>\n",
       "    <tr style=\"text-align: right;\">\n",
       "      <th></th>\n",
       "      <th>Strike</th>\n",
       "      <th>Type</th>\n",
       "      <th>Symbol</th>\n",
       "      <th>...</th>\n",
       "      <th>Quote_Time</th>\n",
       "      <th>Last_Trade_Date</th>\n",
       "      <th>JSON</th>\n",
       "    </tr>\n",
       "    <tr>\n",
       "      <th>Expiry</th>\n",
       "      <th></th>\n",
       "      <th></th>\n",
       "      <th></th>\n",
       "      <th></th>\n",
       "      <th></th>\n",
       "      <th></th>\n",
       "      <th></th>\n",
       "    </tr>\n",
       "  </thead>\n",
       "  <tbody>\n",
       "    <tr>\n",
       "      <th>2021-06-18</th>\n",
       "      <td>65.0</td>\n",
       "      <td>call</td>\n",
       "      <td>MSFT210618C00065000</td>\n",
       "      <td>...</td>\n",
       "      <td>2021-05-07 19:56:43</td>\n",
       "      <td>2021-04-30 14:37:48</td>\n",
       "      <td>{'contractSymbol': 'MSFT210618C00065000', 'str...</td>\n",
       "    </tr>\n",
       "    <tr>\n",
       "      <th>2021-06-18</th>\n",
       "      <td>65.0</td>\n",
       "      <td>put</td>\n",
       "      <td>MSFT210618P00065000</td>\n",
       "      <td>...</td>\n",
       "      <td>2021-05-07 19:56:43</td>\n",
       "      <td>2021-04-30 16:16:58</td>\n",
       "      <td>{'contractSymbol': 'MSFT210618P00065000', 'str...</td>\n",
       "    </tr>\n",
       "    <tr>\n",
       "      <th>2021-06-18</th>\n",
       "      <td>70.0</td>\n",
       "      <td>call</td>\n",
       "      <td>MSFT210618C00070000</td>\n",
       "      <td>...</td>\n",
       "      <td>2021-05-07 19:56:43</td>\n",
       "      <td>2021-04-30 13:49:44</td>\n",
       "      <td>{'contractSymbol': 'MSFT210618C00070000', 'str...</td>\n",
       "    </tr>\n",
       "    <tr>\n",
       "      <th>2021-06-18</th>\n",
       "      <td>70.0</td>\n",
       "      <td>put</td>\n",
       "      <td>MSFT210618P00070000</td>\n",
       "      <td>...</td>\n",
       "      <td>2021-05-07 19:56:43</td>\n",
       "      <td>2021-04-23 16:08:57</td>\n",
       "      <td>{'contractSymbol': 'MSFT210618P00070000', 'str...</td>\n",
       "    </tr>\n",
       "    <tr>\n",
       "      <th>2022-01-21</th>\n",
       "      <td>70.0</td>\n",
       "      <td>call</td>\n",
       "      <td>MSFT220121C00070000</td>\n",
       "      <td>...</td>\n",
       "      <td>2021-05-07 19:56:43</td>\n",
       "      <td>2021-05-05 15:43:59</td>\n",
       "      <td>{'contractSymbol': 'MSFT220121C00070000', 'str...</td>\n",
       "    </tr>\n",
       "    <tr>\n",
       "      <th>...</th>\n",
       "      <td>...</td>\n",
       "      <td>...</td>\n",
       "      <td>...</td>\n",
       "      <td>...</td>\n",
       "      <td>...</td>\n",
       "      <td>...</td>\n",
       "      <td>...</td>\n",
       "    </tr>\n",
       "    <tr>\n",
       "      <th>2023-01-20</th>\n",
       "      <td>390.0</td>\n",
       "      <td>put</td>\n",
       "      <td>MSFT230120P00390000</td>\n",
       "      <td>...</td>\n",
       "      <td>2021-05-07 19:56:45</td>\n",
       "      <td>2021-04-28 14:05:34</td>\n",
       "      <td>{'contractSymbol': 'MSFT230120P00390000', 'str...</td>\n",
       "    </tr>\n",
       "    <tr>\n",
       "      <th>2023-03-17</th>\n",
       "      <td>390.0</td>\n",
       "      <td>call</td>\n",
       "      <td>MSFT230317C00390000</td>\n",
       "      <td>...</td>\n",
       "      <td>2021-05-07 19:56:45</td>\n",
       "      <td>2021-05-07 18:36:29</td>\n",
       "      <td>{'contractSymbol': 'MSFT230317C00390000', 'str...</td>\n",
       "    </tr>\n",
       "    <tr>\n",
       "      <th>2023-03-17</th>\n",
       "      <td>390.0</td>\n",
       "      <td>put</td>\n",
       "      <td>MSFT230317P00390000</td>\n",
       "      <td>...</td>\n",
       "      <td>2021-05-07 19:56:45</td>\n",
       "      <td>2021-04-27 19:22:49</td>\n",
       "      <td>{'contractSymbol': 'MSFT230317P00390000', 'str...</td>\n",
       "    </tr>\n",
       "    <tr>\n",
       "      <th>2023-06-16</th>\n",
       "      <td>390.0</td>\n",
       "      <td>call</td>\n",
       "      <td>MSFT230616C00390000</td>\n",
       "      <td>...</td>\n",
       "      <td>2021-05-07 19:56:46</td>\n",
       "      <td>2021-05-07 16:07:34</td>\n",
       "      <td>{'contractSymbol': 'MSFT230616C00390000', 'str...</td>\n",
       "    </tr>\n",
       "    <tr>\n",
       "      <th>2023-06-16</th>\n",
       "      <td>390.0</td>\n",
       "      <td>put</td>\n",
       "      <td>MSFT230616P00390000</td>\n",
       "      <td>...</td>\n",
       "      <td>2021-05-07 19:56:46</td>\n",
       "      <td>2021-04-30 17:09:46</td>\n",
       "      <td>{'contractSymbol': 'MSFT230616P00390000', 'str...</td>\n",
       "    </tr>\n",
       "  </tbody>\n",
       "</table>\n",
       "<p>1876 rows × 18 columns</p>\n",
       "</div>"
      ],
      "text/plain": [
       "            Strike  Type               Symbol  ...          Quote_Time  \\\n",
       "Expiry                                         ...                       \n",
       "2021-06-18    65.0  call  MSFT210618C00065000  ... 2021-05-07 19:56:43   \n",
       "2021-06-18    65.0   put  MSFT210618P00065000  ... 2021-05-07 19:56:43   \n",
       "2021-06-18    70.0  call  MSFT210618C00070000  ... 2021-05-07 19:56:43   \n",
       "2021-06-18    70.0   put  MSFT210618P00070000  ... 2021-05-07 19:56:43   \n",
       "2022-01-21    70.0  call  MSFT220121C00070000  ... 2021-05-07 19:56:43   \n",
       "...            ...   ...                  ...  ...                 ...   \n",
       "2023-01-20   390.0   put  MSFT230120P00390000  ... 2021-05-07 19:56:45   \n",
       "2023-03-17   390.0  call  MSFT230317C00390000  ... 2021-05-07 19:56:45   \n",
       "2023-03-17   390.0   put  MSFT230317P00390000  ... 2021-05-07 19:56:45   \n",
       "2023-06-16   390.0  call  MSFT230616C00390000  ... 2021-05-07 19:56:46   \n",
       "2023-06-16   390.0   put  MSFT230616P00390000  ... 2021-05-07 19:56:46   \n",
       "\n",
       "               Last_Trade_Date  \\\n",
       "Expiry                           \n",
       "2021-06-18 2021-04-30 14:37:48   \n",
       "2021-06-18 2021-04-30 16:16:58   \n",
       "2021-06-18 2021-04-30 13:49:44   \n",
       "2021-06-18 2021-04-23 16:08:57   \n",
       "2022-01-21 2021-05-05 15:43:59   \n",
       "...                        ...   \n",
       "2023-01-20 2021-04-28 14:05:34   \n",
       "2023-03-17 2021-05-07 18:36:29   \n",
       "2023-03-17 2021-04-27 19:22:49   \n",
       "2023-06-16 2021-05-07 16:07:34   \n",
       "2023-06-16 2021-04-30 17:09:46   \n",
       "\n",
       "                                                         JSON  \n",
       "Expiry                                                         \n",
       "2021-06-18  {'contractSymbol': 'MSFT210618C00065000', 'str...  \n",
       "2021-06-18  {'contractSymbol': 'MSFT210618P00065000', 'str...  \n",
       "2021-06-18  {'contractSymbol': 'MSFT210618C00070000', 'str...  \n",
       "2021-06-18  {'contractSymbol': 'MSFT210618P00070000', 'str...  \n",
       "2022-01-21  {'contractSymbol': 'MSFT220121C00070000', 'str...  \n",
       "...                                                       ...  \n",
       "2023-01-20  {'contractSymbol': 'MSFT230120P00390000', 'str...  \n",
       "2023-03-17  {'contractSymbol': 'MSFT230317C00390000', 'str...  \n",
       "2023-03-17  {'contractSymbol': 'MSFT230317P00390000', 'str...  \n",
       "2023-06-16  {'contractSymbol': 'MSFT230616C00390000', 'str...  \n",
       "2023-06-16  {'contractSymbol': 'MSFT230616P00390000', 'str...  \n",
       "\n",
       "[1876 rows x 18 columns]"
      ]
     },
     "execution_count": 6,
     "metadata": {},
     "output_type": "execute_result"
    }
   ],
   "source": [
    "micro = web.YahooOptions('MSFT')\n",
    "micro_opt = micro.get_all_data().reset_index()\n",
    "micro_opt.set_index('Expiry')"
   ]
  },
  {
   "cell_type": "markdown",
   "metadata": {},
   "source": [
    "### Elegir una fecha para seleccionar las opciones de call y encontrar nuestro strike price"
   ]
  },
  {
   "cell_type": "markdown",
   "metadata": {},
   "source": [
    "La elección de la fecha es debido a que el cliente esta interesado en obtener rentabilidad cada año, para asegurar esto se firman opciones para asegurar que a inicios del 2022 se tenga pactado un precio especifico. "
   ]
  },
  {
   "cell_type": "code",
   "execution_count": 7,
   "metadata": {},
   "outputs": [
    {
     "data": {
      "text/html": [
       "<div>\n",
       "<style scoped>\n",
       "    .dataframe tbody tr th:only-of-type {\n",
       "        vertical-align: middle;\n",
       "    }\n",
       "\n",
       "    .dataframe tbody tr th {\n",
       "        vertical-align: top;\n",
       "    }\n",
       "\n",
       "    .dataframe thead th {\n",
       "        text-align: right;\n",
       "    }\n",
       "</style>\n",
       "<table border=\"1\" class=\"dataframe\">\n",
       "  <thead>\n",
       "    <tr style=\"text-align: right;\">\n",
       "      <th></th>\n",
       "      <th>Strike</th>\n",
       "      <th>Expiry</th>\n",
       "      <th>Type</th>\n",
       "      <th>...</th>\n",
       "      <th>Quote_Time</th>\n",
       "      <th>Last_Trade_Date</th>\n",
       "      <th>JSON</th>\n",
       "    </tr>\n",
       "  </thead>\n",
       "  <tbody>\n",
       "    <tr>\n",
       "      <th>4</th>\n",
       "      <td>70.0</td>\n",
       "      <td>2022-01-21</td>\n",
       "      <td>call</td>\n",
       "      <td>...</td>\n",
       "      <td>2021-05-07 19:56:43</td>\n",
       "      <td>2021-05-05 15:43:59</td>\n",
       "      <td>{'contractSymbol': 'MSFT220121C00070000', 'str...</td>\n",
       "    </tr>\n",
       "    <tr>\n",
       "      <th>8</th>\n",
       "      <td>75.0</td>\n",
       "      <td>2022-01-21</td>\n",
       "      <td>call</td>\n",
       "      <td>...</td>\n",
       "      <td>2021-05-07 19:56:43</td>\n",
       "      <td>2021-04-28 13:52:19</td>\n",
       "      <td>{'contractSymbol': 'MSFT220121C00075000', 'str...</td>\n",
       "    </tr>\n",
       "    <tr>\n",
       "      <th>12</th>\n",
       "      <td>80.0</td>\n",
       "      <td>2022-01-21</td>\n",
       "      <td>call</td>\n",
       "      <td>...</td>\n",
       "      <td>2021-05-07 19:56:43</td>\n",
       "      <td>2021-03-26 18:52:06</td>\n",
       "      <td>{'contractSymbol': 'MSFT220121C00080000', 'str...</td>\n",
       "    </tr>\n",
       "    <tr>\n",
       "      <th>22</th>\n",
       "      <td>85.0</td>\n",
       "      <td>2022-01-21</td>\n",
       "      <td>call</td>\n",
       "      <td>...</td>\n",
       "      <td>2021-05-07 19:56:43</td>\n",
       "      <td>2021-03-25 14:43:22</td>\n",
       "      <td>{'contractSymbol': 'MSFT220121C00085000', 'str...</td>\n",
       "    </tr>\n",
       "    <tr>\n",
       "      <th>32</th>\n",
       "      <td>90.0</td>\n",
       "      <td>2022-01-21</td>\n",
       "      <td>call</td>\n",
       "      <td>...</td>\n",
       "      <td>2021-05-07 19:56:43</td>\n",
       "      <td>2021-04-07 18:44:56</td>\n",
       "      <td>{'contractSymbol': 'MSFT220121C00090000', 'str...</td>\n",
       "    </tr>\n",
       "    <tr>\n",
       "      <th>...</th>\n",
       "      <td>...</td>\n",
       "      <td>...</td>\n",
       "      <td>...</td>\n",
       "      <td>...</td>\n",
       "      <td>...</td>\n",
       "      <td>...</td>\n",
       "      <td>...</td>\n",
       "    </tr>\n",
       "    <tr>\n",
       "      <th>1794</th>\n",
       "      <td>365.0</td>\n",
       "      <td>2022-01-21</td>\n",
       "      <td>call</td>\n",
       "      <td>...</td>\n",
       "      <td>2021-05-07 19:56:43</td>\n",
       "      <td>2021-05-07 15:28:20</td>\n",
       "      <td>{'contractSymbol': 'MSFT220121C00365000', 'str...</td>\n",
       "    </tr>\n",
       "    <tr>\n",
       "      <th>1815</th>\n",
       "      <td>370.0</td>\n",
       "      <td>2022-01-21</td>\n",
       "      <td>call</td>\n",
       "      <td>...</td>\n",
       "      <td>2021-05-07 19:56:43</td>\n",
       "      <td>2021-04-30 19:11:50</td>\n",
       "      <td>{'contractSymbol': 'MSFT220121C00370000', 'str...</td>\n",
       "    </tr>\n",
       "    <tr>\n",
       "      <th>1829</th>\n",
       "      <td>375.0</td>\n",
       "      <td>2022-01-21</td>\n",
       "      <td>call</td>\n",
       "      <td>...</td>\n",
       "      <td>2021-05-07 19:56:43</td>\n",
       "      <td>2021-05-04 15:01:38</td>\n",
       "      <td>{'contractSymbol': 'MSFT220121C00375000', 'str...</td>\n",
       "    </tr>\n",
       "    <tr>\n",
       "      <th>1847</th>\n",
       "      <td>380.0</td>\n",
       "      <td>2022-01-21</td>\n",
       "      <td>call</td>\n",
       "      <td>...</td>\n",
       "      <td>2021-05-07 19:56:43</td>\n",
       "      <td>2021-05-03 16:36:09</td>\n",
       "      <td>{'contractSymbol': 'MSFT220121C00380000', 'str...</td>\n",
       "    </tr>\n",
       "    <tr>\n",
       "      <th>1865</th>\n",
       "      <td>390.0</td>\n",
       "      <td>2022-01-21</td>\n",
       "      <td>call</td>\n",
       "      <td>...</td>\n",
       "      <td>2021-05-07 19:56:43</td>\n",
       "      <td>2021-05-04 19:59:52</td>\n",
       "      <td>{'contractSymbol': 'MSFT220121C00390000', 'str...</td>\n",
       "    </tr>\n",
       "  </tbody>\n",
       "</table>\n",
       "<p>64 rows × 19 columns</p>\n",
       "</div>"
      ],
      "text/plain": [
       "      Strike     Expiry  Type  ...          Quote_Time     Last_Trade_Date  \\\n",
       "4       70.0 2022-01-21  call  ... 2021-05-07 19:56:43 2021-05-05 15:43:59   \n",
       "8       75.0 2022-01-21  call  ... 2021-05-07 19:56:43 2021-04-28 13:52:19   \n",
       "12      80.0 2022-01-21  call  ... 2021-05-07 19:56:43 2021-03-26 18:52:06   \n",
       "22      85.0 2022-01-21  call  ... 2021-05-07 19:56:43 2021-03-25 14:43:22   \n",
       "32      90.0 2022-01-21  call  ... 2021-05-07 19:56:43 2021-04-07 18:44:56   \n",
       "...      ...        ...   ...  ...                 ...                 ...   \n",
       "1794   365.0 2022-01-21  call  ... 2021-05-07 19:56:43 2021-05-07 15:28:20   \n",
       "1815   370.0 2022-01-21  call  ... 2021-05-07 19:56:43 2021-04-30 19:11:50   \n",
       "1829   375.0 2022-01-21  call  ... 2021-05-07 19:56:43 2021-05-04 15:01:38   \n",
       "1847   380.0 2022-01-21  call  ... 2021-05-07 19:56:43 2021-05-03 16:36:09   \n",
       "1865   390.0 2022-01-21  call  ... 2021-05-07 19:56:43 2021-05-04 19:59:52   \n",
       "\n",
       "                                                   JSON  \n",
       "4     {'contractSymbol': 'MSFT220121C00070000', 'str...  \n",
       "8     {'contractSymbol': 'MSFT220121C00075000', 'str...  \n",
       "12    {'contractSymbol': 'MSFT220121C00080000', 'str...  \n",
       "22    {'contractSymbol': 'MSFT220121C00085000', 'str...  \n",
       "32    {'contractSymbol': 'MSFT220121C00090000', 'str...  \n",
       "...                                                 ...  \n",
       "1794  {'contractSymbol': 'MSFT220121C00365000', 'str...  \n",
       "1815  {'contractSymbol': 'MSFT220121C00370000', 'str...  \n",
       "1829  {'contractSymbol': 'MSFT220121C00375000', 'str...  \n",
       "1847  {'contractSymbol': 'MSFT220121C00380000', 'str...  \n",
       "1865  {'contractSymbol': 'MSFT220121C00390000', 'str...  \n",
       "\n",
       "[64 rows x 19 columns]"
      ]
     },
     "execution_count": 7,
     "metadata": {},
     "output_type": "execute_result"
    }
   ],
   "source": [
    "fecha1 = '2022-01-21'\n",
    "call_f1 = micro_opt.loc[(micro_opt.Expiry== fecha1) & (micro_opt.Type=='call')]\n",
    "call_f1"
   ]
  },
  {
   "cell_type": "markdown",
   "metadata": {},
   "source": [
    "### Sonrisa de volatilidad"
   ]
  },
  {
   "cell_type": "code",
   "execution_count": 8,
   "metadata": {},
   "outputs": [
    {
     "data": {
      "image/png": "[encoded data removed]",
      "text/plain": [
       "<Figure size 576x432 with 1 Axes>"
      ]
     },
     "metadata": {
      "needs_background": "light"
     },
     "output_type": "display_data"
    }
   ],
   "source": [
    "ax = call_f1.set_index('Strike').loc[:, 'IV'].plot(figsize=(8,6))\n",
    "ax.axvline(call_f1.Underlying_Price.iloc[0], color='g');"
   ]
  },
  {
   "cell_type": "markdown",
   "metadata": {},
   "source": [
    "Al graficar las opciones call que vencen en la fecha deseada nos damos cuenta que el strike optimo según la sonrisa de volatilidad que se crea en la gráfica es de aproximadamente 255  \n",
    "\n",
    "#### Opción que deseamos valuar  \n",
    "Se elige una opción tipo call debido a que queremos comprar en la fecha determinada al precio de ejercicio determinado, dado que microsoft va a la laza se desea pactar un precio para cubrirnos en caso de que suba demasiado su precio. Se desea asegurar un precio de compra.\n"
   ]
  },
  {
   "cell_type": "code",
   "execution_count": 9,
   "metadata": {},
   "outputs": [
    {
     "data": {
      "text/html": [
       "<div>\n",
       "<style scoped>\n",
       "    .dataframe tbody tr th:only-of-type {\n",
       "        vertical-align: middle;\n",
       "    }\n",
       "\n",
       "    .dataframe tbody tr th {\n",
       "        vertical-align: top;\n",
       "    }\n",
       "\n",
       "    .dataframe thead th {\n",
       "        text-align: right;\n",
       "    }\n",
       "</style>\n",
       "<table border=\"1\" class=\"dataframe\">\n",
       "  <thead>\n",
       "    <tr style=\"text-align: right;\">\n",
       "      <th></th>\n",
       "      <th>Strike</th>\n",
       "      <th>Expiry</th>\n",
       "      <th>Type</th>\n",
       "      <th>...</th>\n",
       "      <th>Quote_Time</th>\n",
       "      <th>Last_Trade_Date</th>\n",
       "      <th>JSON</th>\n",
       "    </tr>\n",
       "  </thead>\n",
       "  <tbody>\n",
       "    <tr>\n",
       "      <th>1092</th>\n",
       "      <td>255.0</td>\n",
       "      <td>2022-01-21</td>\n",
       "      <td>call</td>\n",
       "      <td>...</td>\n",
       "      <td>2021-05-07 19:56:43</td>\n",
       "      <td>2021-05-07 19:37:12</td>\n",
       "      <td>{'contractSymbol': 'MSFT220121C00255000', 'str...</td>\n",
       "    </tr>\n",
       "  </tbody>\n",
       "</table>\n",
       "<p>1 rows × 19 columns</p>\n",
       "</div>"
      ],
      "text/plain": [
       "      Strike     Expiry  Type  ...          Quote_Time     Last_Trade_Date  \\\n",
       "1092   255.0 2022-01-21  call  ... 2021-05-07 19:56:43 2021-05-07 19:37:12   \n",
       "\n",
       "                                                   JSON  \n",
       "1092  {'contractSymbol': 'MSFT220121C00255000', 'str...  \n",
       "\n",
       "[1 rows x 19 columns]"
      ]
     },
     "execution_count": 9,
     "metadata": {},
     "output_type": "execute_result"
    }
   ],
   "source": [
    "K = 255\n",
    "opt_deseada = micro_opt.loc[(micro_opt.Type=='call') & (micro_opt.Strike==K) & (micro_opt.Expiry=='2022-01-21')]\n",
    "opt_deseada"
   ]
  },
  {
   "cell_type": "code",
   "execution_count": 10,
   "metadata": {},
   "outputs": [],
   "source": [
    "opt_valuar = opt_deseada.loc[list(opt_deseada.index)[0]]"
   ]
  },
  {
   "cell_type": "code",
   "execution_count": 11,
   "metadata": {},
   "outputs": [
    {
     "data": {
      "text/plain": [
       "{'contractSymbol': 'MSFT220121C00255000',\n",
       " 'strike': 255.0,\n",
       " 'currency': 'USD',\n",
       " 'lastPrice': 19.5,\n",
       " 'change': 2.3999996,\n",
       " 'percentChange': 14.035086,\n",
       " 'volume': 45,\n",
       " 'openInterest': 9457,\n",
       " 'bid': 19.2,\n",
       " 'ask': 19.55,\n",
       " 'contractSize': 'REGULAR',\n",
       " 'expiration': 1642723200,\n",
       " 'lastTradeDate': 1620416232,\n",
       " 'impliedVolatility': 0.24265283721923825,\n",
       " 'inTheMoney': False}"
      ]
     },
     "execution_count": 11,
     "metadata": {},
     "output_type": "execute_result"
    }
   ],
   "source": [
    "# información de la opción\n",
    "opt_valuar['JSON']"
   ]
  },
  {
   "cell_type": "markdown",
   "metadata": {},
   "source": [
    "## Simulación de precios\n",
    "### Modelo Normal de rendimientos"
   ]
  },
  {
   "cell_type": "code",
   "execution_count": 12,
   "metadata": {},
   "outputs": [
    {
     "data": {
      "text/plain": [
       "(0.0013378250078103693, 0.017973464521367333, 1.6666666666666665e-06)"
      ]
     },
     "execution_count": 12,
     "metadata": {},
     "output_type": "execute_result"
    }
   ],
   "source": [
    "mu = ret_micro.mean()\n",
    "sigma = ret_micro.std()\n",
    "r = 0.0006/360\n",
    "mu, sigma, r"
   ]
  },
  {
   "cell_type": "code",
   "execution_count": 13,
   "metadata": {},
   "outputs": [],
   "source": [
    "from datetime import date\n",
    "\n",
    "# Datos de la opción y del día de actual\n",
    "today = pd.Timestamp(date.today())\n",
    "expiry = opt_valuar.Expiry\n",
    "\n",
    "# Fechas desde el día de hoy hasta la fecha de cierre del contrato (considerando unicamente los días hábiles)\n",
    "dates = pd.date_range(start=today, end=expiry, freq='B')\n",
    "\n",
    "# Cantidad de escenarios a simular para el método de montecarlo\n",
    "ndays = len(dates)\n",
    "nscen = 10000\n",
    "\n",
    "K = opt_valuar.Strike\n",
    "S0 = closes_micro.iloc[-1]\n",
    "sim_ret = pd.DataFrame(sigma*np.random.randn(ndays,nscen)+r,index=dates)\n",
    "sim_closes = S0*np.exp(sim_ret.cumsum())"
   ]
  },
  {
   "cell_type": "markdown",
   "metadata": {},
   "source": [
    "### Valuación de la opción basandonos en la función de pago correspondiente EUROPEA"
   ]
  },
  {
   "cell_type": "code",
   "execution_count": 14,
   "metadata": {},
   "outputs": [
    {
     "data": {
      "image/png": "[encoded data removed]",
      "text/plain": [
       "<Figure size 432x288 with 1 Axes>"
      ]
     },
     "metadata": {
      "needs_background": "light"
     },
     "output_type": "display_data"
    }
   ],
   "source": [
    "strike = K\n",
    "call=pd.DataFrame({'Prima':np.exp(-r*ndays)*np.fmax(sim_closes - strike, 0).mean(axis=1)}, index=dates)\n",
    "call.plot();"
   ]
  },
  {
   "cell_type": "code",
   "execution_count": 15,
   "metadata": {},
   "outputs": [
    {
     "name": "stdout",
     "output_type": "stream",
     "text": [
      "(26.56669301327338, 29.11238296014053)\n"
     ]
    },
    {
     "data": {
      "text/plain": [
       "(Prima    27.84\n",
       " Name: 2022-01-21 00:00:00, dtype: float64,\n",
       " None)"
      ]
     },
     "execution_count": 15,
     "metadata": {},
     "output_type": "execute_result"
    }
   ],
   "source": [
    "# INTERVALOS DE CONFIANZA\n",
    "confianza = 0.95\n",
    "sigma_est = sim_closes.iloc[-1].sem()\n",
    "mean_est = call.iloc[-1].Prima\n",
    "# i1 = st.t.interval(confianza,nscen-1, loc=mean_est, scale=sigma_est)\n",
    "i2 = st.norm.interval(confianza, loc=mean_est, scale=sigma_est)\n",
    "call.iloc[-1], print(i2)"
   ]
  },
  {
   "cell_type": "markdown",
   "metadata": {},
   "source": [
    "### Histograma de rendimietos"
   ]
  },
  {
   "cell_type": "code",
   "execution_count": 16,
   "metadata": {},
   "outputs": [],
   "source": [
    "# Centro mis datos en mi tasa libre de riesgo\n",
    "freq, values = np.histogram(ret_micro-mu+r, bins=10000)\n",
    "# freq = freq.astype('float32')\n",
    "prob = freq/np.sum(freq)\n",
    "\n",
    "# Datos de la opción y del día de actual\n",
    "today = pd.Timestamp(date.today())\n",
    "expiry = opt_valuar.Expiry\n",
    "\n",
    "# Fechas desde el día de hoy hasta la fecha de cierre del contrato (considerando unicamente los días hábiles)\n",
    "dates = pd.date_range(start=today, end=expiry, freq='B')\n",
    "\n",
    "# Cantidad de escenarios a simular para el método de montecarlo\n",
    "ndays = len(dates)\n",
    "nscen = 10000\n",
    "\n",
    "K = opt_valuar.Strike\n",
    "S0 = closes_micro.iloc[-1]\n",
    "\n",
    "ret = np.random.choice(values[1:], (ndays,nscen), p=prob)\n",
    "sim_ret_hist = pd.DataFrame(ret, index=dates)\n",
    "sim_closes_hist = S0*np.exp(sim_ret_hist.cumsum())"
   ]
  },
  {
   "cell_type": "code",
   "execution_count": 17,
   "metadata": {},
   "outputs": [
    {
     "data": {
      "image/png": "[encoded data removed]",
      "text/plain": [
       "<Figure size 432x288 with 1 Axes>"
      ]
     },
     "metadata": {
      "needs_background": "light"
     },
     "output_type": "display_data"
    }
   ],
   "source": [
    "strike = pd.DataFrame(K*np.ones([ndays,nscen]),index=dates)\n",
    "call_hist=pd.DataFrame({'Prima':np.exp(-r*ndays)*np.fmax(sim_closes_hist-strike,np.zeros([ndays,nscen])).T.mean()},index=dates)\n",
    "call_hist.plot();"
   ]
  },
  {
   "cell_type": "code",
   "execution_count": 18,
   "metadata": {},
   "outputs": [
    {
     "name": "stdout",
     "output_type": "stream",
     "text": [
      "(27.15057879756702, 29.68127845588267)\n"
     ]
    },
    {
     "data": {
      "text/plain": [
       "(Prima    28.416\n",
       " Name: 2022-01-21 00:00:00, dtype: float64,\n",
       " None)"
      ]
     },
     "execution_count": 18,
     "metadata": {},
     "output_type": "execute_result"
    }
   ],
   "source": [
    "confianza = 0.95\n",
    "sigma_est = sim_closes_hist.iloc[-1].sem()\n",
    "mean_est = call_hist.iloc[-1].Prima\n",
    "# i1 = st.t.interval(confianza,nscen-1, loc=mean_est, scale=sigma_est)\n",
    "i2 = st.norm.interval(confianza, loc=mean_est, scale=sigma_est)\n",
    "call_hist.iloc[-1], print(i2)"
   ]
  },
  {
   "cell_type": "code",
   "execution_count": 19,
   "metadata": {},
   "outputs": [
    {
     "data": {
      "text/plain": [
       "19.5"
      ]
     },
     "execution_count": 19,
     "metadata": {},
     "output_type": "execute_result"
    }
   ],
   "source": [
    "opt_valuar['JSON']['lastPrice']"
   ]
  },
  {
   "cell_type": "markdown",
   "metadata": {},
   "source": [
    "## Valuación opcion down-and-out\n",
    "### Modelos normal de rendimietos"
   ]
  },
  {
   "cell_type": "code",
   "execution_count": 20,
   "metadata": {},
   "outputs": [
    {
     "data": {
      "text/plain": [
       "(0.0013378250078103693, 0.017973464521367333, 1.6666666666666665e-06)"
      ]
     },
     "execution_count": 20,
     "metadata": {},
     "output_type": "execute_result"
    }
   ],
   "source": [
    "mu = ret_micro.mean()\n",
    "sigma = ret_micro.std()\n",
    "r = 0.0006/360\n",
    "mu, sigma, r"
   ]
  },
  {
   "cell_type": "code",
   "execution_count": 21,
   "metadata": {},
   "outputs": [
    {
     "data": {
      "text/plain": [
       "252.6300048828125"
      ]
     },
     "execution_count": 21,
     "metadata": {},
     "output_type": "execute_result"
    }
   ],
   "source": [
    "# Datos de la opción y del día de actual\n",
    "today = pd.Timestamp(date.today())\n",
    "expiry = opt_valuar.Expiry\n",
    "\n",
    "# Fechas desde el día de hoy hasta la fecha de cierre del contrato (considerando unicamente los días hábiles)\n",
    "dates = pd.date_range(start = today, end = expiry, freq='B')\n",
    "\n",
    "# Cantidad de escenarios a simular para el método de montecarlo\n",
    "ndays = len(dates)\n",
    "nscen = 10000\n",
    "\n",
    "K = opt_valuar.Strike\n",
    "S0 = closes_micro.iloc[-1]\n",
    "\n",
    "sim_ret = pd.DataFrame(sigma*np.random.randn(ndays,nscen)+r,index=dates)\n",
    "sim_closes = S0*np.exp(sim_ret.cumsum())\n",
    "S0"
   ]
  },
  {
   "cell_type": "markdown",
   "metadata": {},
   "source": [
    "Se elige esta barrera porque de esta manera se le brinda un mayor control al cliente sobre las pérdidas potenciales en las que podría incurrir después. El precio de la barrera se fija en 225 (por debajo del strike price) dado que analizando el comportamineto de la acción en el mercado las probabilidades de que toque la barrera no son muy altas. Al usar una barrera abaratamos el precio de la prima de la opción"
   ]
  },
  {
   "cell_type": "code",
   "execution_count": 22,
   "metadata": {},
   "outputs": [
    {
     "data": {
      "text/html": [
       "<div>\n",
       "<style scoped>\n",
       "    .dataframe tbody tr th:only-of-type {\n",
       "        vertical-align: middle;\n",
       "    }\n",
       "\n",
       "    .dataframe tbody tr th {\n",
       "        vertical-align: top;\n",
       "    }\n",
       "\n",
       "    .dataframe thead th {\n",
       "        text-align: right;\n",
       "    }\n",
       "</style>\n",
       "<table border=\"1\" class=\"dataframe\">\n",
       "  <thead>\n",
       "    <tr style=\"text-align: right;\">\n",
       "      <th></th>\n",
       "      <th>0</th>\n",
       "      <th>1</th>\n",
       "      <th>2</th>\n",
       "      <th>3</th>\n",
       "      <th>4</th>\n",
       "      <th>5</th>\n",
       "      <th>6</th>\n",
       "      <th>...</th>\n",
       "      <th>9993</th>\n",
       "      <th>9994</th>\n",
       "      <th>9995</th>\n",
       "      <th>9996</th>\n",
       "      <th>9997</th>\n",
       "      <th>9998</th>\n",
       "      <th>9999</th>\n",
       "    </tr>\n",
       "  </thead>\n",
       "  <tbody>\n",
       "    <tr>\n",
       "      <th>2021-05-07</th>\n",
       "      <td>True</td>\n",
       "      <td>True</td>\n",
       "      <td>True</td>\n",
       "      <td>True</td>\n",
       "      <td>True</td>\n",
       "      <td>True</td>\n",
       "      <td>True</td>\n",
       "      <td>...</td>\n",
       "      <td>True</td>\n",
       "      <td>True</td>\n",
       "      <td>True</td>\n",
       "      <td>True</td>\n",
       "      <td>True</td>\n",
       "      <td>True</td>\n",
       "      <td>True</td>\n",
       "    </tr>\n",
       "    <tr>\n",
       "      <th>2021-05-10</th>\n",
       "      <td>True</td>\n",
       "      <td>True</td>\n",
       "      <td>True</td>\n",
       "      <td>True</td>\n",
       "      <td>True</td>\n",
       "      <td>True</td>\n",
       "      <td>True</td>\n",
       "      <td>...</td>\n",
       "      <td>True</td>\n",
       "      <td>True</td>\n",
       "      <td>True</td>\n",
       "      <td>True</td>\n",
       "      <td>True</td>\n",
       "      <td>True</td>\n",
       "      <td>True</td>\n",
       "    </tr>\n",
       "    <tr>\n",
       "      <th>2021-05-11</th>\n",
       "      <td>True</td>\n",
       "      <td>True</td>\n",
       "      <td>True</td>\n",
       "      <td>True</td>\n",
       "      <td>True</td>\n",
       "      <td>True</td>\n",
       "      <td>True</td>\n",
       "      <td>...</td>\n",
       "      <td>True</td>\n",
       "      <td>True</td>\n",
       "      <td>True</td>\n",
       "      <td>True</td>\n",
       "      <td>True</td>\n",
       "      <td>True</td>\n",
       "      <td>True</td>\n",
       "    </tr>\n",
       "    <tr>\n",
       "      <th>2021-05-12</th>\n",
       "      <td>True</td>\n",
       "      <td>True</td>\n",
       "      <td>True</td>\n",
       "      <td>True</td>\n",
       "      <td>True</td>\n",
       "      <td>True</td>\n",
       "      <td>True</td>\n",
       "      <td>...</td>\n",
       "      <td>True</td>\n",
       "      <td>True</td>\n",
       "      <td>True</td>\n",
       "      <td>True</td>\n",
       "      <td>True</td>\n",
       "      <td>True</td>\n",
       "      <td>True</td>\n",
       "    </tr>\n",
       "    <tr>\n",
       "      <th>2021-05-13</th>\n",
       "      <td>True</td>\n",
       "      <td>True</td>\n",
       "      <td>True</td>\n",
       "      <td>True</td>\n",
       "      <td>True</td>\n",
       "      <td>True</td>\n",
       "      <td>True</td>\n",
       "      <td>...</td>\n",
       "      <td>True</td>\n",
       "      <td>True</td>\n",
       "      <td>True</td>\n",
       "      <td>True</td>\n",
       "      <td>True</td>\n",
       "      <td>True</td>\n",
       "      <td>True</td>\n",
       "    </tr>\n",
       "    <tr>\n",
       "      <th>...</th>\n",
       "      <td>...</td>\n",
       "      <td>...</td>\n",
       "      <td>...</td>\n",
       "      <td>...</td>\n",
       "      <td>...</td>\n",
       "      <td>...</td>\n",
       "      <td>...</td>\n",
       "      <td>...</td>\n",
       "      <td>...</td>\n",
       "      <td>...</td>\n",
       "      <td>...</td>\n",
       "      <td>...</td>\n",
       "      <td>...</td>\n",
       "      <td>...</td>\n",
       "      <td>...</td>\n",
       "    </tr>\n",
       "    <tr>\n",
       "      <th>2022-01-17</th>\n",
       "      <td>True</td>\n",
       "      <td>False</td>\n",
       "      <td>True</td>\n",
       "      <td>True</td>\n",
       "      <td>True</td>\n",
       "      <td>False</td>\n",
       "      <td>False</td>\n",
       "      <td>...</td>\n",
       "      <td>True</td>\n",
       "      <td>False</td>\n",
       "      <td>True</td>\n",
       "      <td>True</td>\n",
       "      <td>False</td>\n",
       "      <td>True</td>\n",
       "      <td>False</td>\n",
       "    </tr>\n",
       "    <tr>\n",
       "      <th>2022-01-18</th>\n",
       "      <td>True</td>\n",
       "      <td>False</td>\n",
       "      <td>True</td>\n",
       "      <td>True</td>\n",
       "      <td>True</td>\n",
       "      <td>False</td>\n",
       "      <td>False</td>\n",
       "      <td>...</td>\n",
       "      <td>True</td>\n",
       "      <td>False</td>\n",
       "      <td>True</td>\n",
       "      <td>True</td>\n",
       "      <td>False</td>\n",
       "      <td>True</td>\n",
       "      <td>False</td>\n",
       "    </tr>\n",
       "    <tr>\n",
       "      <th>2022-01-19</th>\n",
       "      <td>True</td>\n",
       "      <td>False</td>\n",
       "      <td>True</td>\n",
       "      <td>True</td>\n",
       "      <td>True</td>\n",
       "      <td>False</td>\n",
       "      <td>False</td>\n",
       "      <td>...</td>\n",
       "      <td>True</td>\n",
       "      <td>False</td>\n",
       "      <td>True</td>\n",
       "      <td>True</td>\n",
       "      <td>False</td>\n",
       "      <td>True</td>\n",
       "      <td>False</td>\n",
       "    </tr>\n",
       "    <tr>\n",
       "      <th>2022-01-20</th>\n",
       "      <td>True</td>\n",
       "      <td>False</td>\n",
       "      <td>True</td>\n",
       "      <td>True</td>\n",
       "      <td>True</td>\n",
       "      <td>False</td>\n",
       "      <td>False</td>\n",
       "      <td>...</td>\n",
       "      <td>True</td>\n",
       "      <td>False</td>\n",
       "      <td>True</td>\n",
       "      <td>True</td>\n",
       "      <td>False</td>\n",
       "      <td>True</td>\n",
       "      <td>False</td>\n",
       "    </tr>\n",
       "    <tr>\n",
       "      <th>2022-01-21</th>\n",
       "      <td>True</td>\n",
       "      <td>False</td>\n",
       "      <td>True</td>\n",
       "      <td>True</td>\n",
       "      <td>True</td>\n",
       "      <td>False</td>\n",
       "      <td>False</td>\n",
       "      <td>...</td>\n",
       "      <td>True</td>\n",
       "      <td>False</td>\n",
       "      <td>True</td>\n",
       "      <td>True</td>\n",
       "      <td>False</td>\n",
       "      <td>True</td>\n",
       "      <td>False</td>\n",
       "    </tr>\n",
       "  </tbody>\n",
       "</table>\n",
       "<p>186 rows × 10000 columns</p>\n",
       "</div>"
      ],
      "text/plain": [
       "            0      1     2     3     4      5      6     ...  9993   9994  \\\n",
       "2021-05-07  True   True  True  True  True   True   True  ...  True   True   \n",
       "2021-05-10  True   True  True  True  True   True   True  ...  True   True   \n",
       "2021-05-11  True   True  True  True  True   True   True  ...  True   True   \n",
       "2021-05-12  True   True  True  True  True   True   True  ...  True   True   \n",
       "2021-05-13  True   True  True  True  True   True   True  ...  True   True   \n",
       "...          ...    ...   ...   ...   ...    ...    ...  ...   ...    ...   \n",
       "2022-01-17  True  False  True  True  True  False  False  ...  True  False   \n",
       "2022-01-18  True  False  True  True  True  False  False  ...  True  False   \n",
       "2022-01-19  True  False  True  True  True  False  False  ...  True  False   \n",
       "2022-01-20  True  False  True  True  True  False  False  ...  True  False   \n",
       "2022-01-21  True  False  True  True  True  False  False  ...  True  False   \n",
       "\n",
       "            9995  9996   9997  9998   9999  \n",
       "2021-05-07  True  True   True  True   True  \n",
       "2021-05-10  True  True   True  True   True  \n",
       "2021-05-11  True  True   True  True   True  \n",
       "2021-05-12  True  True   True  True   True  \n",
       "2021-05-13  True  True   True  True   True  \n",
       "...          ...   ...    ...   ...    ...  \n",
       "2022-01-17  True  True  False  True  False  \n",
       "2022-01-18  True  True  False  True  False  \n",
       "2022-01-19  True  True  False  True  False  \n",
       "2022-01-20  True  True  False  True  False  \n",
       "2022-01-21  True  True  False  True  False  \n",
       "\n",
       "[186 rows x 10000 columns]"
      ]
     },
     "execution_count": 22,
     "metadata": {},
     "output_type": "execute_result"
    }
   ],
   "source": [
    "pd.set_option('display.max_columns', 15)\n",
    "\n",
    "# Precio barrera\n",
    "B = 225\n",
    "\n",
    "# Función de desactivación (knock-out) DOWN AND OUT\n",
    "# Si en algún momento el precio toca la barrera la opción se desactiva\n",
    "I = (sim_closes > B).cumprod(axis=0)  > 0\n",
    "I"
   ]
  },
  {
   "cell_type": "markdown",
   "metadata": {},
   "source": [
    "### Valuación call down and out"
   ]
  },
  {
   "cell_type": "code",
   "execution_count": 23,
   "metadata": {},
   "outputs": [
    {
     "data": {
      "text/plain": [
       "(255.0, 252.64)"
      ]
     },
     "execution_count": 23,
     "metadata": {},
     "output_type": "execute_result"
    }
   ],
   "source": [
    "K = opt_valuar.Strike\n",
    "S0 = opt_valuar.Underlying_Price\n",
    "K, S0"
   ]
  },
  {
   "cell_type": "code",
   "execution_count": 24,
   "metadata": {},
   "outputs": [
    {
     "data": {
      "image/png": "[encoded data removed]",
      "text/plain": [
       "<Figure size 432x288 with 1 Axes>"
      ]
     },
     "metadata": {
      "needs_background": "light"
     },
     "output_type": "display_data"
    }
   ],
   "source": [
    "# Definir barrera\n",
    "B = 225\n",
    "# Crear función indicadora\n",
    "I = (sim_closes > B).cumprod(axis=0) > 0\n",
    "# Definir strike\n",
    "strike = K\n",
    "# Calcular la prima de una opción Europea\n",
    "call = pd.DataFrame({'Prima Europea':np.exp(-r*ndays)*np.fmax(sim_closes - strike, 0)\n",
    "                     .mean(axis=1)},index=dates)\n",
    "# Calcular la prima de una opción barrera\n",
    "calldo = pd.DataFrame({'Prima down-and-out':np.exp(-r*ndays)*(I * np.fmax(sim_closes - strike, 0))\n",
    "                       .mean(axis=1)},index=dates)\n",
    "# Graficar el resultado de las dos primas previamente valuadas\n",
    "ax = calldo.plot();\n",
    "call.plot(ax=ax);"
   ]
  },
  {
   "cell_type": "code",
   "execution_count": 25,
   "metadata": {},
   "outputs": [
    {
     "data": {
      "text/plain": [
       "(Prima Europea    28.287\n",
       " Name: 2022-01-21 00:00:00, dtype: float64,\n",
       " Prima down-and-out    23.248\n",
       " Name: 2022-01-21 00:00:00, dtype: float64)"
      ]
     },
     "execution_count": 25,
     "metadata": {},
     "output_type": "execute_result"
    }
   ],
   "source": [
    "call.iloc[-1], calldo.iloc[-1]"
   ]
  },
  {
   "cell_type": "markdown",
   "metadata": {},
   "source": [
    "### Histograma"
   ]
  },
  {
   "cell_type": "code",
   "execution_count": 26,
   "metadata": {},
   "outputs": [
    {
     "data": {
      "image/png": "[encoded data removed]",
      "text/plain": [
       "<Figure size 432x288 with 1 Axes>"
      ]
     },
     "metadata": {
      "needs_background": "light"
     },
     "output_type": "display_data"
    }
   ],
   "source": [
    "\n",
    "# Definir barrera\n",
    "B = 225\n",
    "# Crear función indicadora\n",
    "I = (sim_closes > B).cumprod(axis=0) > 0\n",
    "# Definir strike\n",
    "strike = K\n",
    "# Calcular la prima de una opción Europea\n",
    "call_hist = pd.DataFrame({'Prima Europea':np.exp(-r*ndays)*np.fmax(sim_closes_hist - strike, 0)\n",
    "                     .mean(axis=1)},index=dates)\n",
    "# Calcular la prima de una opción barrera\n",
    "call_hist_do = pd.DataFrame({'Prima down-and-out':np.exp(-r*ndays)*(I * np.fmax(sim_closes_hist - strike, 0))\n",
    "                       .mean(axis=1)},index=dates)\n",
    "# Graficar el resultado de las dos primas previamente valuadas\n",
    "ax = call_hist_do.plot();\n",
    "call_hist.plot(ax=ax);"
   ]
  },
  {
   "cell_type": "code",
   "execution_count": 27,
   "metadata": {},
   "outputs": [
    {
     "data": {
      "text/plain": [
       "(Prima Europea    28.416\n",
       " Name: 2022-01-21 00:00:00, dtype: float64,\n",
       " Prima down-and-out    10.742\n",
       " Name: 2022-01-21 00:00:00, dtype: float64)"
      ]
     },
     "execution_count": 27,
     "metadata": {},
     "output_type": "execute_result"
    }
   ],
   "source": [
    "call_hist.iloc[-1], call_hist_do.iloc[-1]"
   ]
  },
  {
   "cell_type": "markdown",
   "metadata": {},
   "source": [
    "Podemos observar que la prima de la opción se abarata al poner una barrera, si bien no es mucha diferencia de precios pero si es una diferencia significativa. Al comprador le beneficia usar una opción barrera, ya que las porbabilidades de que la opción se desactive no son altas y el precio de la prima de la opción es menor que el de una opción europea. \n",
    "Con el método del histograma la prima se abarata mucho más que si usamos rendimientos normales. "
   ]
  },
  {
   "cell_type": "markdown",
   "metadata": {},
   "source": [
    "# 2. Opción barrera 'PUT'- Up-and-out \n",
    "### Elegir una fecha para seleccionar las opciones de y encontrar nuestro strike price"
   ]
  },
  {
   "cell_type": "markdown",
   "metadata": {},
   "source": [
    "La elección de la fecha es debido a que el cliente esta interesado en obtener rentabilidad cada año, para asegurar esto se firman opciones para asegurar que a inicios del 2022 se tenga pactado un precio de venta especifico. "
   ]
  },
  {
   "cell_type": "code",
   "execution_count": 28,
   "metadata": {},
   "outputs": [
    {
     "data": {
      "text/html": [
       "<div>\n",
       "<style scoped>\n",
       "    .dataframe tbody tr th:only-of-type {\n",
       "        vertical-align: middle;\n",
       "    }\n",
       "\n",
       "    .dataframe tbody tr th {\n",
       "        vertical-align: top;\n",
       "    }\n",
       "\n",
       "    .dataframe thead th {\n",
       "        text-align: right;\n",
       "    }\n",
       "</style>\n",
       "<table border=\"1\" class=\"dataframe\">\n",
       "  <thead>\n",
       "    <tr style=\"text-align: right;\">\n",
       "      <th></th>\n",
       "      <th>Strike</th>\n",
       "      <th>Expiry</th>\n",
       "      <th>Type</th>\n",
       "      <th>Symbol</th>\n",
       "      <th>Last</th>\n",
       "      <th>Bid</th>\n",
       "      <th>Ask</th>\n",
       "      <th>...</th>\n",
       "      <th>Root</th>\n",
       "      <th>IsNonstandard</th>\n",
       "      <th>Underlying</th>\n",
       "      <th>Underlying_Price</th>\n",
       "      <th>Quote_Time</th>\n",
       "      <th>Last_Trade_Date</th>\n",
       "      <th>JSON</th>\n",
       "    </tr>\n",
       "  </thead>\n",
       "  <tbody>\n",
       "    <tr>\n",
       "      <th>5</th>\n",
       "      <td>70.0</td>\n",
       "      <td>2022-01-21</td>\n",
       "      <td>put</td>\n",
       "      <td>MSFT220121P00070000</td>\n",
       "      <td>0.18</td>\n",
       "      <td>0.12</td>\n",
       "      <td>0.18</td>\n",
       "      <td>...</td>\n",
       "      <td>MSFT</td>\n",
       "      <td>False</td>\n",
       "      <td>MSFT</td>\n",
       "      <td>252.64</td>\n",
       "      <td>2021-05-07 19:56:43</td>\n",
       "      <td>2021-05-06 18:49:14</td>\n",
       "      <td>{'contractSymbol': 'MSFT220121P00070000', 'str...</td>\n",
       "    </tr>\n",
       "    <tr>\n",
       "      <th>9</th>\n",
       "      <td>75.0</td>\n",
       "      <td>2022-01-21</td>\n",
       "      <td>put</td>\n",
       "      <td>MSFT220121P00075000</td>\n",
       "      <td>0.25</td>\n",
       "      <td>0.15</td>\n",
       "      <td>0.20</td>\n",
       "      <td>...</td>\n",
       "      <td>MSFT</td>\n",
       "      <td>False</td>\n",
       "      <td>MSFT</td>\n",
       "      <td>252.64</td>\n",
       "      <td>2021-05-07 19:56:43</td>\n",
       "      <td>2021-05-04 15:55:35</td>\n",
       "      <td>{'contractSymbol': 'MSFT220121P00075000', 'str...</td>\n",
       "    </tr>\n",
       "    <tr>\n",
       "      <th>13</th>\n",
       "      <td>80.0</td>\n",
       "      <td>2022-01-21</td>\n",
       "      <td>put</td>\n",
       "      <td>MSFT220121P00080000</td>\n",
       "      <td>0.39</td>\n",
       "      <td>0.22</td>\n",
       "      <td>0.27</td>\n",
       "      <td>...</td>\n",
       "      <td>MSFT</td>\n",
       "      <td>False</td>\n",
       "      <td>MSFT</td>\n",
       "      <td>252.64</td>\n",
       "      <td>2021-05-07 19:56:43</td>\n",
       "      <td>2021-04-22 15:09:27</td>\n",
       "      <td>{'contractSymbol': 'MSFT220121P00080000', 'str...</td>\n",
       "    </tr>\n",
       "    <tr>\n",
       "      <th>23</th>\n",
       "      <td>85.0</td>\n",
       "      <td>2022-01-21</td>\n",
       "      <td>put</td>\n",
       "      <td>MSFT220121P00085000</td>\n",
       "      <td>0.35</td>\n",
       "      <td>0.25</td>\n",
       "      <td>0.31</td>\n",
       "      <td>...</td>\n",
       "      <td>MSFT</td>\n",
       "      <td>False</td>\n",
       "      <td>MSFT</td>\n",
       "      <td>252.64</td>\n",
       "      <td>2021-05-07 19:56:43</td>\n",
       "      <td>2021-05-04 18:46:11</td>\n",
       "      <td>{'contractSymbol': 'MSFT220121P00085000', 'str...</td>\n",
       "    </tr>\n",
       "    <tr>\n",
       "      <th>33</th>\n",
       "      <td>90.0</td>\n",
       "      <td>2022-01-21</td>\n",
       "      <td>put</td>\n",
       "      <td>MSFT220121P00090000</td>\n",
       "      <td>0.35</td>\n",
       "      <td>0.28</td>\n",
       "      <td>0.36</td>\n",
       "      <td>...</td>\n",
       "      <td>MSFT</td>\n",
       "      <td>False</td>\n",
       "      <td>MSFT</td>\n",
       "      <td>252.64</td>\n",
       "      <td>2021-05-07 19:56:43</td>\n",
       "      <td>2021-05-07 18:26:11</td>\n",
       "      <td>{'contractSymbol': 'MSFT220121P00090000', 'str...</td>\n",
       "    </tr>\n",
       "    <tr>\n",
       "      <th>...</th>\n",
       "      <td>...</td>\n",
       "      <td>...</td>\n",
       "      <td>...</td>\n",
       "      <td>...</td>\n",
       "      <td>...</td>\n",
       "      <td>...</td>\n",
       "      <td>...</td>\n",
       "      <td>...</td>\n",
       "      <td>...</td>\n",
       "      <td>...</td>\n",
       "      <td>...</td>\n",
       "      <td>...</td>\n",
       "      <td>...</td>\n",
       "      <td>...</td>\n",
       "      <td>...</td>\n",
       "    </tr>\n",
       "    <tr>\n",
       "      <th>1712</th>\n",
       "      <td>345.0</td>\n",
       "      <td>2022-01-21</td>\n",
       "      <td>put</td>\n",
       "      <td>MSFT220121P00345000</td>\n",
       "      <td>89.65</td>\n",
       "      <td>94.00</td>\n",
       "      <td>94.60</td>\n",
       "      <td>...</td>\n",
       "      <td>MSFT</td>\n",
       "      <td>False</td>\n",
       "      <td>MSFT</td>\n",
       "      <td>252.64</td>\n",
       "      <td>2021-05-07 19:56:43</td>\n",
       "      <td>2021-04-20 19:18:14</td>\n",
       "      <td>{'contractSymbol': 'MSFT220121P00345000', 'str...</td>\n",
       "    </tr>\n",
       "    <tr>\n",
       "      <th>1736</th>\n",
       "      <td>350.0</td>\n",
       "      <td>2022-01-21</td>\n",
       "      <td>put</td>\n",
       "      <td>MSFT220121P00350000</td>\n",
       "      <td>92.75</td>\n",
       "      <td>98.80</td>\n",
       "      <td>99.10</td>\n",
       "      <td>...</td>\n",
       "      <td>MSFT</td>\n",
       "      <td>False</td>\n",
       "      <td>MSFT</td>\n",
       "      <td>252.64</td>\n",
       "      <td>2021-05-07 19:56:43</td>\n",
       "      <td>2021-04-21 19:34:04</td>\n",
       "      <td>{'contractSymbol': 'MSFT220121P00350000', 'str...</td>\n",
       "    </tr>\n",
       "    <tr>\n",
       "      <th>1779</th>\n",
       "      <td>360.0</td>\n",
       "      <td>2022-01-21</td>\n",
       "      <td>put</td>\n",
       "      <td>MSFT220121P00360000</td>\n",
       "      <td>104.05</td>\n",
       "      <td>108.55</td>\n",
       "      <td>109.25</td>\n",
       "      <td>...</td>\n",
       "      <td>MSFT</td>\n",
       "      <td>False</td>\n",
       "      <td>MSFT</td>\n",
       "      <td>252.64</td>\n",
       "      <td>2021-05-07 19:56:43</td>\n",
       "      <td>2021-04-20 19:18:54</td>\n",
       "      <td>{'contractSymbol': 'MSFT220121P00360000', 'str...</td>\n",
       "    </tr>\n",
       "    <tr>\n",
       "      <th>1795</th>\n",
       "      <td>365.0</td>\n",
       "      <td>2022-01-21</td>\n",
       "      <td>put</td>\n",
       "      <td>MSFT220121P00365000</td>\n",
       "      <td>112.40</td>\n",
       "      <td>113.35</td>\n",
       "      <td>114.00</td>\n",
       "      <td>...</td>\n",
       "      <td>MSFT</td>\n",
       "      <td>False</td>\n",
       "      <td>MSFT</td>\n",
       "      <td>252.64</td>\n",
       "      <td>2021-05-07 19:56:43</td>\n",
       "      <td>2021-04-28 15:09:41</td>\n",
       "      <td>{'contractSymbol': 'MSFT220121P00365000', 'str...</td>\n",
       "    </tr>\n",
       "    <tr>\n",
       "      <th>1848</th>\n",
       "      <td>380.0</td>\n",
       "      <td>2022-01-21</td>\n",
       "      <td>put</td>\n",
       "      <td>MSFT220121P00380000</td>\n",
       "      <td>120.62</td>\n",
       "      <td>128.10</td>\n",
       "      <td>128.80</td>\n",
       "      <td>...</td>\n",
       "      <td>MSFT</td>\n",
       "      <td>False</td>\n",
       "      <td>MSFT</td>\n",
       "      <td>252.64</td>\n",
       "      <td>2021-05-07 19:56:43</td>\n",
       "      <td>2021-04-19 04:01:51</td>\n",
       "      <td>{'contractSymbol': 'MSFT220121P00380000', 'str...</td>\n",
       "    </tr>\n",
       "  </tbody>\n",
       "</table>\n",
       "<p>60 rows × 19 columns</p>\n",
       "</div>"
      ],
      "text/plain": [
       "      Strike     Expiry Type               Symbol    Last     Bid     Ask  \\\n",
       "5       70.0 2022-01-21  put  MSFT220121P00070000    0.18    0.12    0.18   \n",
       "9       75.0 2022-01-21  put  MSFT220121P00075000    0.25    0.15    0.20   \n",
       "13      80.0 2022-01-21  put  MSFT220121P00080000    0.39    0.22    0.27   \n",
       "23      85.0 2022-01-21  put  MSFT220121P00085000    0.35    0.25    0.31   \n",
       "33      90.0 2022-01-21  put  MSFT220121P00090000    0.35    0.28    0.36   \n",
       "...      ...        ...  ...                  ...     ...     ...     ...   \n",
       "1712   345.0 2022-01-21  put  MSFT220121P00345000   89.65   94.00   94.60   \n",
       "1736   350.0 2022-01-21  put  MSFT220121P00350000   92.75   98.80   99.10   \n",
       "1779   360.0 2022-01-21  put  MSFT220121P00360000  104.05  108.55  109.25   \n",
       "1795   365.0 2022-01-21  put  MSFT220121P00365000  112.40  113.35  114.00   \n",
       "1848   380.0 2022-01-21  put  MSFT220121P00380000  120.62  128.10  128.80   \n",
       "\n",
       "      ...  Root  IsNonstandard  Underlying  Underlying_Price  \\\n",
       "5     ...  MSFT          False        MSFT            252.64   \n",
       "9     ...  MSFT          False        MSFT            252.64   \n",
       "13    ...  MSFT          False        MSFT            252.64   \n",
       "23    ...  MSFT          False        MSFT            252.64   \n",
       "33    ...  MSFT          False        MSFT            252.64   \n",
       "...   ...   ...            ...         ...               ...   \n",
       "1712  ...  MSFT          False        MSFT            252.64   \n",
       "1736  ...  MSFT          False        MSFT            252.64   \n",
       "1779  ...  MSFT          False        MSFT            252.64   \n",
       "1795  ...  MSFT          False        MSFT            252.64   \n",
       "1848  ...  MSFT          False        MSFT            252.64   \n",
       "\n",
       "              Quote_Time     Last_Trade_Date  \\\n",
       "5    2021-05-07 19:56:43 2021-05-06 18:49:14   \n",
       "9    2021-05-07 19:56:43 2021-05-04 15:55:35   \n",
       "13   2021-05-07 19:56:43 2021-04-22 15:09:27   \n",
       "23   2021-05-07 19:56:43 2021-05-04 18:46:11   \n",
       "33   2021-05-07 19:56:43 2021-05-07 18:26:11   \n",
       "...                  ...                 ...   \n",
       "1712 2021-05-07 19:56:43 2021-04-20 19:18:14   \n",
       "1736 2021-05-07 19:56:43 2021-04-21 19:34:04   \n",
       "1779 2021-05-07 19:56:43 2021-04-20 19:18:54   \n",
       "1795 2021-05-07 19:56:43 2021-04-28 15:09:41   \n",
       "1848 2021-05-07 19:56:43 2021-04-19 04:01:51   \n",
       "\n",
       "                                                   JSON  \n",
       "5     {'contractSymbol': 'MSFT220121P00070000', 'str...  \n",
       "9     {'contractSymbol': 'MSFT220121P00075000', 'str...  \n",
       "13    {'contractSymbol': 'MSFT220121P00080000', 'str...  \n",
       "23    {'contractSymbol': 'MSFT220121P00085000', 'str...  \n",
       "33    {'contractSymbol': 'MSFT220121P00090000', 'str...  \n",
       "...                                                 ...  \n",
       "1712  {'contractSymbol': 'MSFT220121P00345000', 'str...  \n",
       "1736  {'contractSymbol': 'MSFT220121P00350000', 'str...  \n",
       "1779  {'contractSymbol': 'MSFT220121P00360000', 'str...  \n",
       "1795  {'contractSymbol': 'MSFT220121P00365000', 'str...  \n",
       "1848  {'contractSymbol': 'MSFT220121P00380000', 'str...  \n",
       "\n",
       "[60 rows x 19 columns]"
      ]
     },
     "execution_count": 28,
     "metadata": {},
     "output_type": "execute_result"
    }
   ],
   "source": [
    "fecha1 = '2022-01-21'\n",
    "put_f1 = micro_opt.loc[(micro_opt.Expiry== fecha1) & (micro_opt.Type=='put')]\n",
    "put_f1"
   ]
  },
  {
   "cell_type": "markdown",
   "metadata": {},
   "source": [
    "### Sonrisa de volatilidad"
   ]
  },
  {
   "cell_type": "code",
   "execution_count": 29,
   "metadata": {},
   "outputs": [
    {
     "data": {
      "image/png": "[encoded data removed]",
      "text/plain": [
       "<Figure size 576x432 with 1 Axes>"
      ]
     },
     "metadata": {
      "needs_background": "light"
     },
     "output_type": "display_data"
    }
   ],
   "source": [
    "ax = put_f1.set_index('Strike').loc[:, 'IV'].plot(figsize=(8,6))\n",
    "ax.axvline(put_f1.Underlying_Price.iloc[0], color='g');"
   ]
  },
  {
   "cell_type": "markdown",
   "metadata": {},
   "source": [
    "Al graficar las opciones call que vencen en la fecha deseada nos damos cuenta que el strike optimo según la sonrisa de volatilidad que se crea en la gráfica es de aproximadamente 250\n",
    "\n",
    "### Opción que deseamos valuar\n",
    "Se elige una opción tipo put debido a que queremos vender en la fecha determinada al precio de ejercicio determinado, microsoft va a alza pero se desea pactar un precio para cubrirnos en caso de que baje demasiado su precio. Se desea asegurar un precio de venta.\n",
    "\n"
   ]
  },
  {
   "cell_type": "code",
   "execution_count": 30,
   "metadata": {},
   "outputs": [
    {
     "data": {
      "text/html": [
       "<div>\n",
       "<style scoped>\n",
       "    .dataframe tbody tr th:only-of-type {\n",
       "        vertical-align: middle;\n",
       "    }\n",
       "\n",
       "    .dataframe tbody tr th {\n",
       "        vertical-align: top;\n",
       "    }\n",
       "\n",
       "    .dataframe thead th {\n",
       "        text-align: right;\n",
       "    }\n",
       "</style>\n",
       "<table border=\"1\" class=\"dataframe\">\n",
       "  <thead>\n",
       "    <tr style=\"text-align: right;\">\n",
       "      <th></th>\n",
       "      <th>Strike</th>\n",
       "      <th>Expiry</th>\n",
       "      <th>Type</th>\n",
       "      <th>Symbol</th>\n",
       "      <th>Last</th>\n",
       "      <th>Bid</th>\n",
       "      <th>Ask</th>\n",
       "      <th>...</th>\n",
       "      <th>Root</th>\n",
       "      <th>IsNonstandard</th>\n",
       "      <th>Underlying</th>\n",
       "      <th>Underlying_Price</th>\n",
       "      <th>Quote_Time</th>\n",
       "      <th>Last_Trade_Date</th>\n",
       "      <th>JSON</th>\n",
       "    </tr>\n",
       "  </thead>\n",
       "  <tbody>\n",
       "    <tr>\n",
       "      <th>1045</th>\n",
       "      <td>250.0</td>\n",
       "      <td>2022-01-21</td>\n",
       "      <td>put</td>\n",
       "      <td>MSFT220121P00250000</td>\n",
       "      <td>19.78</td>\n",
       "      <td>19.45</td>\n",
       "      <td>19.75</td>\n",
       "      <td>...</td>\n",
       "      <td>MSFT</td>\n",
       "      <td>False</td>\n",
       "      <td>MSFT</td>\n",
       "      <td>252.64</td>\n",
       "      <td>2021-05-07 19:56:43</td>\n",
       "      <td>2021-05-07 18:45:38</td>\n",
       "      <td>{'contractSymbol': 'MSFT220121P00250000', 'str...</td>\n",
       "    </tr>\n",
       "  </tbody>\n",
       "</table>\n",
       "<p>1 rows × 19 columns</p>\n",
       "</div>"
      ],
      "text/plain": [
       "      Strike     Expiry Type               Symbol   Last    Bid    Ask  ...  \\\n",
       "1045   250.0 2022-01-21  put  MSFT220121P00250000  19.78  19.45  19.75  ...   \n",
       "\n",
       "      Root  IsNonstandard  Underlying  Underlying_Price          Quote_Time  \\\n",
       "1045  MSFT          False        MSFT            252.64 2021-05-07 19:56:43   \n",
       "\n",
       "         Last_Trade_Date                                               JSON  \n",
       "1045 2021-05-07 18:45:38  {'contractSymbol': 'MSFT220121P00250000', 'str...  \n",
       "\n",
       "[1 rows x 19 columns]"
      ]
     },
     "execution_count": 30,
     "metadata": {},
     "output_type": "execute_result"
    }
   ],
   "source": [
    "K = 250\n",
    "opt_deseada = micro_opt.loc[(micro_opt.Type=='put') & (micro_opt.Strike==K) & (micro_opt.Expiry=='2022-01-21')]\n",
    "opt_deseada"
   ]
  },
  {
   "cell_type": "code",
   "execution_count": 31,
   "metadata": {},
   "outputs": [],
   "source": [
    "opt_valuar_p = opt_deseada.loc[list(opt_deseada.index)[0]]"
   ]
  },
  {
   "cell_type": "code",
   "execution_count": 32,
   "metadata": {},
   "outputs": [
    {
     "data": {
      "text/plain": [
       "{'contractSymbol': 'MSFT220121P00250000',\n",
       " 'strike': 250.0,\n",
       " 'currency': 'USD',\n",
       " 'lastPrice': 19.78,\n",
       " 'change': -2.9099998,\n",
       " 'percentChange': -12.825033,\n",
       " 'volume': 248,\n",
       " 'openInterest': 5460,\n",
       " 'bid': 19.45,\n",
       " 'ask': 19.75,\n",
       " 'contractSize': 'REGULAR',\n",
       " 'expiration': 1642723200,\n",
       " 'lastTradeDate': 1620413138,\n",
       " 'impliedVolatility': 0.2492445681762695,\n",
       " 'inTheMoney': False}"
      ]
     },
     "execution_count": 32,
     "metadata": {},
     "output_type": "execute_result"
    }
   ],
   "source": [
    "# información de la opción\n",
    "opt_valuar_p['JSON']"
   ]
  },
  {
   "cell_type": "markdown",
   "metadata": {},
   "source": [
    "### Simulación de precios\n",
    "#### Modelo normal de rendimientos"
   ]
  },
  {
   "cell_type": "code",
   "execution_count": 33,
   "metadata": {},
   "outputs": [],
   "source": [
    "from datetime import date\n",
    "\n",
    "# Datos de la opción y del día de actual\n",
    "today = pd.Timestamp(date.today())\n",
    "expiry = opt_valuar_p.Expiry\n",
    "\n",
    "# Fechas desde el día de hoy hasta la fecha de cierre del contrato (considerando unicamente los días hábiles)\n",
    "dates = pd.date_range(start=today, end=expiry, freq='B')\n",
    "\n",
    "# Cantidad de escenarios a simular para el método de montecarlo\n",
    "ndays = len(dates)\n",
    "nscen = 10000\n",
    "\n",
    "K = opt_valuar_p.Strike\n",
    "S0 = closes_micro.iloc[-1]\n",
    "sim_ret = pd.DataFrame(sigma*np.random.randn(ndays,nscen)+r,index=dates)\n",
    "sim_closes = S0*np.exp(sim_ret.cumsum())"
   ]
  },
  {
   "cell_type": "markdown",
   "metadata": {},
   "source": [
    "#### Valuación de la opción basandonos en la función de pago correspondiente EUROPEA"
   ]
  },
  {
   "cell_type": "code",
   "execution_count": 34,
   "metadata": {},
   "outputs": [
    {
     "data": {
      "image/png": "[encoded data removed]",
      "text/plain": [
       "<Figure size 432x288 with 1 Axes>"
      ]
     },
     "metadata": {
      "needs_background": "light"
     },
     "output_type": "display_data"
    }
   ],
   "source": [
    "strike = K\n",
    "put=pd.DataFrame({'Prima':np.exp(-r*ndays)*np.fmax(strike - sim_closes , 0).mean(axis=1)}, index=dates)\n",
    "put.plot();"
   ]
  },
  {
   "cell_type": "code",
   "execution_count": 35,
   "metadata": {},
   "outputs": [
    {
     "data": {
      "text/plain": [
       "Prima    20.097\n",
       "Name: 2022-01-21 00:00:00, dtype: float64"
      ]
     },
     "execution_count": 35,
     "metadata": {},
     "output_type": "execute_result"
    }
   ],
   "source": [
    "put.iloc[-1]"
   ]
  },
  {
   "cell_type": "code",
   "execution_count": 36,
   "metadata": {},
   "outputs": [
    {
     "name": "stdout",
     "output_type": "stream",
     "text": [
      "(18.830593302908813, 21.364157809671436)\n"
     ]
    }
   ],
   "source": [
    "# INTERVALOS DE CONFIANZA\n",
    "confianza = 0.95\n",
    "sigma_est = sim_closes.iloc[-1].sem()\n",
    "mean_est = put.iloc[-1].Prima\n",
    "# i1 = st.t.interval(confianza,nscen-1, loc=mean_est, scale=sigma_est)\n",
    "i2 = st.norm.interval(confianza, loc=mean_est, scale=sigma_est)\n",
    "print(i2)"
   ]
  },
  {
   "cell_type": "markdown",
   "metadata": {},
   "source": [
    "### Histograma de rendimientos"
   ]
  },
  {
   "cell_type": "code",
   "execution_count": 37,
   "metadata": {},
   "outputs": [],
   "source": [
    "# Centro mis datos en mi tasa libre de riesgo\n",
    "freq, values = np.histogram(ret_micro-mu+r, bins=10000)\n",
    "# freq = freq.astype('float32')\n",
    "prob = freq/np.sum(freq)\n",
    "\n",
    "# Datos de la opción y del día de actual\n",
    "today = pd.Timestamp(date.today())\n",
    "expiry = opt_valuar_p.Expiry\n",
    "\n",
    "# Fechas desde el día de hoy hasta la fecha de cierre del contrato (considerando unicamente los días hábiles)\n",
    "dates = pd.date_range(start=today, end=expiry, freq='B')\n",
    "\n",
    "# Cantidad de escenarios a simular para el método de montecarlo\n",
    "ndays = len(dates)\n",
    "nscen = 10000\n",
    "\n",
    "K = opt_valuar_p.Strike\n",
    "S0 = closes_micro.iloc[-1]\n",
    "\n",
    "ret = np.random.choice(values[1:], (ndays,nscen), p=prob)\n",
    "sim_ret_hist = pd.DataFrame(ret, index=dates)\n",
    "sim_closes_hist = S0*np.exp(sim_ret_hist.cumsum())\n",
    "strike = pd.DataFrame(K*np.ones([ndays,nscen]),index=dates)"
   ]
  },
  {
   "cell_type": "code",
   "execution_count": 38,
   "metadata": {},
   "outputs": [
    {
     "data": {
      "image/png": "[encoded data removed]",
      "text/plain": [
       "<Figure size 432x288 with 1 Axes>"
      ]
     },
     "metadata": {
      "needs_background": "light"
     },
     "output_type": "display_data"
    }
   ],
   "source": [
    "put_hist=pd.DataFrame({'Prima':np.exp(-r*ndays)*np.fmax(strike - sim_closes_hist,np.zeros([ndays,nscen])).T.mean()},index=dates)\n",
    "put_hist.plot();"
   ]
  },
  {
   "cell_type": "code",
   "execution_count": 39,
   "metadata": {},
   "outputs": [
    {
     "data": {
      "text/plain": [
       "Prima    19.616\n",
       "Name: 2022-01-21 00:00:00, dtype: float64"
      ]
     },
     "execution_count": 39,
     "metadata": {},
     "output_type": "execute_result"
    }
   ],
   "source": [
    "put_hist.iloc[-1]"
   ]
  },
  {
   "cell_type": "code",
   "execution_count": 40,
   "metadata": {},
   "outputs": [
    {
     "name": "stdout",
     "output_type": "stream",
     "text": [
      "(18.338082915460582, 20.893361468126237)\n"
     ]
    }
   ],
   "source": [
    "confianza = 0.95\n",
    "sigma_est = sim_closes_hist.iloc[-1].sem()\n",
    "mean_est = put_hist.iloc[-1].Prima\n",
    "# i1 = st.t.interval(confianza,nscen-1, loc=mean_est, scale=sigma_est)\n",
    "i2 = st.norm.interval(confianza, loc=mean_est, scale=sigma_est)\n",
    "print(i2)"
   ]
  },
  {
   "cell_type": "code",
   "execution_count": 41,
   "metadata": {},
   "outputs": [
    {
     "data": {
      "text/plain": [
       "19.78"
      ]
     },
     "execution_count": 41,
     "metadata": {},
     "output_type": "execute_result"
    }
   ],
   "source": [
    "opt_valuar_p['JSON']['lastPrice']"
   ]
  },
  {
   "cell_type": "markdown",
   "metadata": {},
   "source": [
    "### Valuación opcion up-and-out\n",
    "#### Modelos normal de rendimietos\n"
   ]
  },
  {
   "cell_type": "code",
   "execution_count": 42,
   "metadata": {},
   "outputs": [
    {
     "data": {
      "text/plain": [
       "(0.0013378250078103693, 0.017973464521367333, 1.6666666666666665e-06)"
      ]
     },
     "execution_count": 42,
     "metadata": {},
     "output_type": "execute_result"
    }
   ],
   "source": [
    "mu = ret_micro.mean()\n",
    "sigma = ret_micro.std()\n",
    "r = 0.0006/360\n",
    "mu, sigma, r"
   ]
  },
  {
   "cell_type": "code",
   "execution_count": 43,
   "metadata": {},
   "outputs": [
    {
     "data": {
      "text/plain": [
       "252.6300048828125"
      ]
     },
     "execution_count": 43,
     "metadata": {},
     "output_type": "execute_result"
    }
   ],
   "source": [
    "# Datos de la opción y del día de actual\n",
    "today = pd.Timestamp(date.today())\n",
    "expiry = opt_valuar_p.Expiry\n",
    "\n",
    "# Fechas desde el día de hoy hasta la fecha de cierre del contrato (considerando unicamente los días hábiles)\n",
    "dates = pd.date_range(start = today, end = expiry, freq='B')\n",
    "\n",
    "# Cantidad de escenarios a simular para el método de montecarlo\n",
    "ndays = len(dates)\n",
    "nscen = 10000\n",
    "\n",
    "K = opt_valuar_p.Strike\n",
    "S0 = closes_micro.iloc[-1]\n",
    "\n",
    "sim_ret = pd.DataFrame(sigma*np.random.randn(ndays,nscen)+r,index=dates)\n",
    "sim_closes = S0*np.exp(sim_ret.cumsum())\n",
    "S0"
   ]
  },
  {
   "cell_type": "code",
   "execution_count": 44,
   "metadata": {},
   "outputs": [
    {
     "data": {
      "text/plain": [
       "252.64"
      ]
     },
     "execution_count": 44,
     "metadata": {},
     "output_type": "execute_result"
    }
   ],
   "source": [
    "opt_valuar_p.Underlying_Price"
   ]
  },
  {
   "cell_type": "markdown",
   "metadata": {},
   "source": [
    " El precio de la barrera se fija en 280 (arriba del strike price) dado que analizando el comportamineto de la acción en el mercado las probabilidades de que toque la barrera no son muy altas, ya que el precio si bien va a la alza no presenta subidas muy abruptas. Al usar una barrera abaratamos el precio de la prima de la opción. "
   ]
  },
  {
   "cell_type": "code",
   "execution_count": 45,
   "metadata": {},
   "outputs": [
    {
     "data": {
      "text/html": [
       "<div>\n",
       "<style scoped>\n",
       "    .dataframe tbody tr th:only-of-type {\n",
       "        vertical-align: middle;\n",
       "    }\n",
       "\n",
       "    .dataframe tbody tr th {\n",
       "        vertical-align: top;\n",
       "    }\n",
       "\n",
       "    .dataframe thead th {\n",
       "        text-align: right;\n",
       "    }\n",
       "</style>\n",
       "<table border=\"1\" class=\"dataframe\">\n",
       "  <thead>\n",
       "    <tr style=\"text-align: right;\">\n",
       "      <th></th>\n",
       "      <th>0</th>\n",
       "      <th>1</th>\n",
       "      <th>2</th>\n",
       "      <th>3</th>\n",
       "      <th>4</th>\n",
       "      <th>5</th>\n",
       "      <th>6</th>\n",
       "      <th>...</th>\n",
       "      <th>9993</th>\n",
       "      <th>9994</th>\n",
       "      <th>9995</th>\n",
       "      <th>9996</th>\n",
       "      <th>9997</th>\n",
       "      <th>9998</th>\n",
       "      <th>9999</th>\n",
       "    </tr>\n",
       "  </thead>\n",
       "  <tbody>\n",
       "    <tr>\n",
       "      <th>2021-05-07</th>\n",
       "      <td>True</td>\n",
       "      <td>True</td>\n",
       "      <td>True</td>\n",
       "      <td>True</td>\n",
       "      <td>True</td>\n",
       "      <td>True</td>\n",
       "      <td>True</td>\n",
       "      <td>...</td>\n",
       "      <td>True</td>\n",
       "      <td>True</td>\n",
       "      <td>True</td>\n",
       "      <td>True</td>\n",
       "      <td>True</td>\n",
       "      <td>True</td>\n",
       "      <td>True</td>\n",
       "    </tr>\n",
       "    <tr>\n",
       "      <th>2021-05-10</th>\n",
       "      <td>True</td>\n",
       "      <td>True</td>\n",
       "      <td>True</td>\n",
       "      <td>True</td>\n",
       "      <td>True</td>\n",
       "      <td>True</td>\n",
       "      <td>True</td>\n",
       "      <td>...</td>\n",
       "      <td>True</td>\n",
       "      <td>True</td>\n",
       "      <td>True</td>\n",
       "      <td>True</td>\n",
       "      <td>True</td>\n",
       "      <td>True</td>\n",
       "      <td>True</td>\n",
       "    </tr>\n",
       "    <tr>\n",
       "      <th>2021-05-11</th>\n",
       "      <td>True</td>\n",
       "      <td>True</td>\n",
       "      <td>True</td>\n",
       "      <td>True</td>\n",
       "      <td>True</td>\n",
       "      <td>True</td>\n",
       "      <td>True</td>\n",
       "      <td>...</td>\n",
       "      <td>True</td>\n",
       "      <td>True</td>\n",
       "      <td>True</td>\n",
       "      <td>True</td>\n",
       "      <td>True</td>\n",
       "      <td>True</td>\n",
       "      <td>True</td>\n",
       "    </tr>\n",
       "    <tr>\n",
       "      <th>2021-05-12</th>\n",
       "      <td>True</td>\n",
       "      <td>True</td>\n",
       "      <td>True</td>\n",
       "      <td>True</td>\n",
       "      <td>True</td>\n",
       "      <td>True</td>\n",
       "      <td>True</td>\n",
       "      <td>...</td>\n",
       "      <td>True</td>\n",
       "      <td>True</td>\n",
       "      <td>True</td>\n",
       "      <td>True</td>\n",
       "      <td>True</td>\n",
       "      <td>True</td>\n",
       "      <td>True</td>\n",
       "    </tr>\n",
       "    <tr>\n",
       "      <th>2021-05-13</th>\n",
       "      <td>True</td>\n",
       "      <td>True</td>\n",
       "      <td>True</td>\n",
       "      <td>True</td>\n",
       "      <td>True</td>\n",
       "      <td>True</td>\n",
       "      <td>True</td>\n",
       "      <td>...</td>\n",
       "      <td>True</td>\n",
       "      <td>True</td>\n",
       "      <td>True</td>\n",
       "      <td>True</td>\n",
       "      <td>True</td>\n",
       "      <td>True</td>\n",
       "      <td>True</td>\n",
       "    </tr>\n",
       "    <tr>\n",
       "      <th>...</th>\n",
       "      <td>...</td>\n",
       "      <td>...</td>\n",
       "      <td>...</td>\n",
       "      <td>...</td>\n",
       "      <td>...</td>\n",
       "      <td>...</td>\n",
       "      <td>...</td>\n",
       "      <td>...</td>\n",
       "      <td>...</td>\n",
       "      <td>...</td>\n",
       "      <td>...</td>\n",
       "      <td>...</td>\n",
       "      <td>...</td>\n",
       "      <td>...</td>\n",
       "      <td>...</td>\n",
       "    </tr>\n",
       "    <tr>\n",
       "      <th>2022-01-17</th>\n",
       "      <td>True</td>\n",
       "      <td>True</td>\n",
       "      <td>True</td>\n",
       "      <td>False</td>\n",
       "      <td>False</td>\n",
       "      <td>True</td>\n",
       "      <td>True</td>\n",
       "      <td>...</td>\n",
       "      <td>False</td>\n",
       "      <td>False</td>\n",
       "      <td>False</td>\n",
       "      <td>True</td>\n",
       "      <td>True</td>\n",
       "      <td>True</td>\n",
       "      <td>True</td>\n",
       "    </tr>\n",
       "    <tr>\n",
       "      <th>2022-01-18</th>\n",
       "      <td>True</td>\n",
       "      <td>True</td>\n",
       "      <td>True</td>\n",
       "      <td>False</td>\n",
       "      <td>False</td>\n",
       "      <td>True</td>\n",
       "      <td>True</td>\n",
       "      <td>...</td>\n",
       "      <td>False</td>\n",
       "      <td>False</td>\n",
       "      <td>False</td>\n",
       "      <td>True</td>\n",
       "      <td>True</td>\n",
       "      <td>True</td>\n",
       "      <td>True</td>\n",
       "    </tr>\n",
       "    <tr>\n",
       "      <th>2022-01-19</th>\n",
       "      <td>True</td>\n",
       "      <td>True</td>\n",
       "      <td>True</td>\n",
       "      <td>False</td>\n",
       "      <td>False</td>\n",
       "      <td>True</td>\n",
       "      <td>True</td>\n",
       "      <td>...</td>\n",
       "      <td>False</td>\n",
       "      <td>False</td>\n",
       "      <td>False</td>\n",
       "      <td>True</td>\n",
       "      <td>True</td>\n",
       "      <td>True</td>\n",
       "      <td>True</td>\n",
       "    </tr>\n",
       "    <tr>\n",
       "      <th>2022-01-20</th>\n",
       "      <td>True</td>\n",
       "      <td>True</td>\n",
       "      <td>True</td>\n",
       "      <td>False</td>\n",
       "      <td>False</td>\n",
       "      <td>True</td>\n",
       "      <td>True</td>\n",
       "      <td>...</td>\n",
       "      <td>False</td>\n",
       "      <td>False</td>\n",
       "      <td>False</td>\n",
       "      <td>True</td>\n",
       "      <td>True</td>\n",
       "      <td>True</td>\n",
       "      <td>True</td>\n",
       "    </tr>\n",
       "    <tr>\n",
       "      <th>2022-01-21</th>\n",
       "      <td>True</td>\n",
       "      <td>True</td>\n",
       "      <td>True</td>\n",
       "      <td>False</td>\n",
       "      <td>False</td>\n",
       "      <td>True</td>\n",
       "      <td>True</td>\n",
       "      <td>...</td>\n",
       "      <td>False</td>\n",
       "      <td>False</td>\n",
       "      <td>False</td>\n",
       "      <td>True</td>\n",
       "      <td>True</td>\n",
       "      <td>True</td>\n",
       "      <td>True</td>\n",
       "    </tr>\n",
       "  </tbody>\n",
       "</table>\n",
       "<p>186 rows × 10000 columns</p>\n",
       "</div>"
      ],
      "text/plain": [
       "            0     1     2      3      4     5     6     ...   9993   9994  \\\n",
       "2021-05-07  True  True  True   True   True  True  True  ...   True   True   \n",
       "2021-05-10  True  True  True   True   True  True  True  ...   True   True   \n",
       "2021-05-11  True  True  True   True   True  True  True  ...   True   True   \n",
       "2021-05-12  True  True  True   True   True  True  True  ...   True   True   \n",
       "2021-05-13  True  True  True   True   True  True  True  ...   True   True   \n",
       "...          ...   ...   ...    ...    ...   ...   ...  ...    ...    ...   \n",
       "2022-01-17  True  True  True  False  False  True  True  ...  False  False   \n",
       "2022-01-18  True  True  True  False  False  True  True  ...  False  False   \n",
       "2022-01-19  True  True  True  False  False  True  True  ...  False  False   \n",
       "2022-01-20  True  True  True  False  False  True  True  ...  False  False   \n",
       "2022-01-21  True  True  True  False  False  True  True  ...  False  False   \n",
       "\n",
       "             9995  9996  9997  9998  9999  \n",
       "2021-05-07   True  True  True  True  True  \n",
       "2021-05-10   True  True  True  True  True  \n",
       "2021-05-11   True  True  True  True  True  \n",
       "2021-05-12   True  True  True  True  True  \n",
       "2021-05-13   True  True  True  True  True  \n",
       "...           ...   ...   ...   ...   ...  \n",
       "2022-01-17  False  True  True  True  True  \n",
       "2022-01-18  False  True  True  True  True  \n",
       "2022-01-19  False  True  True  True  True  \n",
       "2022-01-20  False  True  True  True  True  \n",
       "2022-01-21  False  True  True  True  True  \n",
       "\n",
       "[186 rows x 10000 columns]"
      ]
     },
     "execution_count": 45,
     "metadata": {},
     "output_type": "execute_result"
    }
   ],
   "source": [
    "pd.set_option('display.max_columns', 15)\n",
    "\n",
    "# Precio barrera\n",
    "B = 280\n",
    "\n",
    "# Función de desactivación (knock-out) UP AND OUT\n",
    "# Si en algún momento el precio toca la barrera la opción se desactiva\n",
    "I = (sim_closes < B).cumprod(axis=0)  > 0\n",
    "I"
   ]
  },
  {
   "cell_type": "code",
   "execution_count": 46,
   "metadata": {},
   "outputs": [
    {
     "data": {
      "text/plain": [
       "(250.0, 252.64)"
      ]
     },
     "execution_count": 46,
     "metadata": {},
     "output_type": "execute_result"
    }
   ],
   "source": [
    "K = opt_valuar_p.Strike\n",
    "S0 = opt_valuar_p.Underlying_Price\n",
    "K, S0"
   ]
  },
  {
   "cell_type": "code",
   "execution_count": 47,
   "metadata": {},
   "outputs": [
    {
     "data": {
      "image/png": "[encoded data removed]",
      "text/plain": [
       "<Figure size 432x288 with 1 Axes>"
      ]
     },
     "metadata": {
      "needs_background": "light"
     },
     "output_type": "display_data"
    }
   ],
   "source": [
    "# Definir barrera\n",
    "B = 280\n",
    "# Crear función indicadora\n",
    "I = (sim_closes < B).cumprod(axis=0) > 0\n",
    "# Definir strike\n",
    "strike = K\n",
    "# Calcular la prima de una opción Europea\n",
    "put = pd.DataFrame({'Prima Europea':np.exp(-r*ndays)*np.fmax(strike - sim_closes , 0)\n",
    "                     .mean(axis=1)},index=dates)\n",
    "# Calcular la prima de una opción barrera\n",
    "put_uo = pd.DataFrame({'Prima up-and-out':np.exp(-r*ndays)*(I * np.fmax(strike - sim_closes, 0))\n",
    "                       .mean(axis=1)},index=dates)\n",
    "# Graficar el resultado de las dos primas previamente valuadas\n",
    "ax = put_uo.plot();\n",
    "put.plot(ax=ax);"
   ]
  },
  {
   "cell_type": "code",
   "execution_count": 48,
   "metadata": {},
   "outputs": [
    {
     "data": {
      "text/plain": [
       "(Prima Europea    19.828\n",
       " Name: 2022-01-21 00:00:00, dtype: float64,\n",
       " Prima up-and-out    15.012\n",
       " Name: 2022-01-21 00:00:00, dtype: float64)"
      ]
     },
     "execution_count": 48,
     "metadata": {},
     "output_type": "execute_result"
    }
   ],
   "source": [
    "put.iloc[-1], put_uo.iloc[-1]"
   ]
  },
  {
   "cell_type": "markdown",
   "metadata": {},
   "source": [
    "### Histograma"
   ]
  },
  {
   "cell_type": "code",
   "execution_count": 49,
   "metadata": {},
   "outputs": [
    {
     "data": {
      "image/png": "[encoded data removed]",
      "text/plain": [
       "<Figure size 432x288 with 1 Axes>"
      ]
     },
     "metadata": {
      "needs_background": "light"
     },
     "output_type": "display_data"
    }
   ],
   "source": [
    "\n",
    "# Definir barrera\n",
    "B = 280\n",
    "# Crear función indicadora\n",
    "I = (sim_closes < B).cumprod(axis=0) > 0\n",
    "# Definir strike\n",
    "strike = K\n",
    "# Calcular la prima de una opción Europea\n",
    "put_hist = pd.DataFrame({'Prima Europea':np.exp(-r*ndays)*np.fmax(strike - sim_closes_hist , 0)\n",
    "                     .mean(axis=1)},index=dates)\n",
    "# Calcular la prima de una opción barrera\n",
    "put_hist_uo = pd.DataFrame({'Prima up-and-out':np.exp(-r*ndays)*(I * np.fmax(strike - sim_closes_hist, 0))\n",
    "                       .mean(axis=1)},index=dates)\n",
    "# Graficar el resultado de las dos primas previamente valuadas\n",
    "ax = put_hist_uo.plot();\n",
    "put_hist.plot(ax=ax);"
   ]
  },
  {
   "cell_type": "code",
   "execution_count": 50,
   "metadata": {},
   "outputs": [
    {
     "data": {
      "text/plain": [
       "(Prima Europea    19.616\n",
       " Name: 2022-01-21 00:00:00, dtype: float64,\n",
       " Prima up-and-out    6.886\n",
       " Name: 2022-01-21 00:00:00, dtype: float64)"
      ]
     },
     "execution_count": 50,
     "metadata": {},
     "output_type": "execute_result"
    }
   ],
   "source": [
    "put_hist.iloc[-1], put_hist_uo.iloc[-1]"
   ]
  },
  {
   "cell_type": "markdown",
   "metadata": {},
   "source": [
    "Finalmente podemos analizar que la barrera si logra abaratar el precio de la prima de la opción de manera significativa. Se observa claramente que con el método del histograma la prima se abarata mucho más que si usamos rendimientos normales. "
   ]
  },
  {
   "cell_type": "markdown",
   "metadata": {},
   "source": [
    "### Solución Diego Pintor"
   ]
  },
  {
   "cell_type": "code",
   "execution_count": null,
   "metadata": {},
   "outputs": [],
   "source": []
  }
 ],
 "metadata": {
  "kernelspec": {
   "display_name": "Python 3",
   "language": "python",
   "name": "python3"
  },
  "language_info": {
   "codemirror_mode": {
    "name": "ipython",
    "version": 3
   },
   "file_extension": ".py",
   "mimetype": "text/x-python",
   "name": "python",
   "nbconvert_exporter": "python",
   "pygments_lexer": "ipython3",
   "version": "3.8.5"
  }
 },
 "nbformat": 4,
 "nbformat_minor": 2
}
