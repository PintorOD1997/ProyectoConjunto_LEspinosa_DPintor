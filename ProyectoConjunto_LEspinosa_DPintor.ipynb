{
 "cells": [
  {
   "cell_type": "markdown",
   "metadata": {},
   "source": [
    "<img style=\"float: left; margin: 30px 15px 15px 15px;\" src=\"https://pngimage.net/wp-content/uploads/2018/06/logo-iteso-png-5.png\" width=\"300\" height=\"500\" /> \n",
    "    \n",
    "    \n",
    "### <font color='navy'> Simulación de procesos financieros. \n",
    "\n",
    "**Nombres:** Diego Pintor Ochoa, Lyha Espinosa García\n",
    "\n",
    "**Fecha:** 28 de abril de 2021.\n",
    "\n",
    "**Expediente** : if72622, .\n",
    "**Profesor:** Oscar David Jaramillo Zuluaga.\n",
    "\n",
    "# Tarea 9: Clase 21"
   ]
  },
  {
   "cell_type": "markdown",
   "metadata": {},
   "source": [
    "## Enunciado de tarea \n",
    "> Replicar el procedimiento anterior para valoración de opciones 'call', pero en este caso para opciones tipo 'put' y compararlo con el valor teórico de la ecuación de Black-Scholes."
   ]
  },
  {
   "cell_type": "markdown",
   "metadata": {},
   "source": [
    "### Solución Lyha Espinosa"
   ]
  },
  {
   "cell_type": "code",
   "execution_count": 1,
   "metadata": {},
   "outputs": [
    {
     "ename": "SyntaxError",
     "evalue": "invalid syntax (<ipython-input-1-9d1c0c122db9>, line 2)",
     "output_type": "error",
     "traceback": [
      "\u001b[1;36m  File \u001b[1;32m\"<ipython-input-1-9d1c0c122db9>\"\u001b[1;36m, line \u001b[1;32m2\u001b[0m\n\u001b[1;33m    .\u001b[0m\n\u001b[1;37m    ^\u001b[0m\n\u001b[1;31mSyntaxError\u001b[0m\u001b[1;31m:\u001b[0m invalid syntax\n"
     ]
    }
   ],
   "source": [
    "# Código de solución \n",
    ".\n",
    ".\n",
    ".\n",
    ".\n"
   ]
  },
  {
   "cell_type": "markdown",
   "metadata": {},
   "source": [
    "### Solución Diego Pintor\n"
   ]
  },
  {
   "cell_type": "code",
   "execution_count": 3,
   "metadata": {},
   "outputs": [],
   "source": [
    "#importar los paquetes que se van a usar\n",
    "import pandas as pd\n",
    "import pandas_datareader.data as web\n",
    "import numpy as np\n",
    "import datetime\n",
    "import matplotlib.pyplot as plt\n",
    "import scipy.stats as st\n",
    "import seaborn as sns\n",
    "%matplotlib inline\n",
    "#algunas opciones para Pandas\n",
    "pd.set_option('display.notebook_repr_html', True)\n",
    "pd.set_option('display.max_columns', 6)\n",
    "pd.set_option('display.max_rows', 10)\n",
    "pd.set_option('display.width', 78)\n",
    "pd.set_option('precision', 3)\n",
    "# Función para descargar precios de cierre ajustados:\n",
    "def get_adj_closes(tickers, start_date=None, end_date=None):\n",
    "    # Fecha inicio por defecto (start_date='2010-01-01') y fecha fin por defecto (end_date=today)\n",
    "    # Descargamos DataFrame con todos los datos\n",
    "    closes = web.DataReader(name=tickers, data_source='yahoo', start=start_date, end=end_date)\n",
    "    # Solo necesitamos los precios ajustados en el cierre\n",
    "    closes = closes['Adj Close']\n",
    "    # Se ordenan los índices de manera ascendente\n",
    "    closes.sort_index(inplace=True)\n",
    "    return closes"
   ]
  },
  {
   "cell_type": "code",
   "execution_count": 4,
   "metadata": {},
   "outputs": [],
   "source": [
    "aapl = web.YahooOptions('AAPL')\n",
    "aapl_opt = aapl.get_all_data().reset_index()\n",
    "aapl_opt = aapl_opt.set_index('Expiry')"
   ]
  },
  {
   "cell_type": "code",
   "execution_count": 52,
   "metadata": {},
   "outputs": [],
   "source": [
    "def calc_daily_ret(closes):\n",
    "    return np.log(closes/closes.shift(1)).iloc[1:]\n",
    "ticker = ['AAPL']\n",
    "start_date = '2017-01-01'\n",
    "closes_aapl = get_adj_closes(ticker, start_date)\n",
    "ret_aapl = calc_daily_ret(closes_aapl)\n",
    "# Obtenemos el rendimiento simple\n",
    "Ri = closes_aapl.pct_change(1).iloc[1:]\n",
    "# Obtenemos su media y desviación estándar de los rendimientos\n",
    "mu = ret_aapl.mean()[0]\n",
    "sigma = ret_aapl.std()[0]\n",
    "mu, sigma\n",
    "\n",
    "aapl_opt = aapl.get_all_data().reset_index()\n",
    "K = 135\n",
    "indice_opt = aapl_opt.loc[(aapl_opt.Type=='put') & (aapl_opt.Strike==K) & (aapl_opt.Expiry=='2022-09-16')]\n",
    "i_opt= indice_opt.index\n",
    "opcion_valuar = aapl_opt.loc[i_opt[0]]"
   ]
  },
  {
   "cell_type": "code",
   "execution_count": 77,
   "metadata": {
    "scrolled": true
   },
   "outputs": [],
   "source": [
    "# Fechas de simulaciones\n",
    "from datetime import date\n",
    "today = pd.to_datetime(date.today())\n",
    "\n",
    "# Obtener fecha de cierre de la opción a valuar\n",
    "expiry = opcion_valuar.Expiry\n",
    "dates = pd.date_range(today, expiry, freq='B')\n",
    "\n",
    "ndays = len(dates)\n",
    "dates = pd.date_range(start= Hoy, periods = ndays, freq='B')\n",
    "# Generando histograma de rendimientos\n",
    "ren = calc_daily_ret(closes_aapl) \n",
    "y, x = np.histogram(ren['AAPL'], bins=50, density=True)"
   ]
  },
  {
   "cell_type": "code",
   "execution_count": 79,
   "metadata": {},
   "outputs": [],
   "source": [
    "prob = y/np.sum(y)\n",
    "values = x[1:]\n"
   ]
  },
  {
   "cell_type": "code",
   "execution_count": 80,
   "metadata": {},
   "outputs": [],
   "source": [
    "nscen = 10000\n",
    "# Rendimientos simulados\n",
    "ret = np.random.choice(values, ndays*nscen, p=prob)\n",
    "# Fechas\n",
    "dates = pd.date_range(start=Hoy,periods=ndays)\n",
    "# Rendimien en Data Frame\n",
    "sim_ret_hist = pd.DataFrame(ret.reshape((ndays,nscen)),index=dates)\n",
    "sim_ret_hist\n",
    "sim_closes_hist = (closes_aapl.iloc[-1,0])*np.exp(sim_ret_hist.cumsum())\n"
   ]
  },
  {
   "cell_type": "code",
   "execution_count": 81,
   "metadata": {},
   "outputs": [],
   "source": [
    "K = opcion_valuar['JSON']['strike']\n",
    "ndays = len(dates)\n",
    "nscen = 100000\n",
    "\n",
    "\n",
    "# Tasa de bonos de 1 yr de fecha 21/04/2021 -> 7%\n",
    "r = 0.007/360 # Tasa diaria\n",
    "\n",
    "# Histograma tomando la tasa libre de riesgo\n",
    "freq, values = np.histogram(ret_aapl+r-mu, bins=2000)\n",
    "prob = freq/np.sum(freq)\n",
    "\n",
    "# Simulación de los rendimientos\n",
    "ret = np.random.choice(values[1:], ndays*nscen, p=prob)\n",
    "\n",
    "\n",
    "# Simulación de precios\n",
    "sim_ret_hist = pd.DataFrame(ret.reshape((ndays,nscen)),index=dates)\n",
    "sim_closes_hist = (closes_aapl.iloc[-1,0]) * np.exp(sim_ret_hist.cumsum())"
   ]
  },
  {
   "cell_type": "code",
   "execution_count": 82,
   "metadata": {
    "scrolled": true
   },
   "outputs": [],
   "source": [
    "strike = pd.DataFrame(K*np.ones(ndays*nscen).reshape((ndays,nscen)), index=dates)\n",
    "call_hist = pd.DataFrame({'Prima':np.exp(-r*ndays) \\\n",
    "                          *np.fmax(strike-sim_closes_hist,np.zeros(ndays*nscen).reshape((ndays,nscen))).T.mean()}, index=dates)\n"
   ]
  },
  {
   "cell_type": "code",
   "execution_count": 83,
   "metadata": {},
   "outputs": [
    {
     "name": "stdout",
     "output_type": "stream",
     "text": [
      "(14.460483030456672, 15.189275057312912)\n",
      "(14.460483030456672, 15.189275057312912)\n"
     ]
    }
   ],
   "source": [
    "confianza = 0.95\n",
    "sigma_est = sim_closes_hist.iloc[-1].sem()\n",
    "mean_est = call_hist.iloc[-1].Prima\n",
    "i1 = st.t.interval(confianza,nscen-1, loc=mean_est, scale=sigma_est)\n",
    "i2 = st.norm.interval(confianza, loc=mean_est, scale=sigma_est)\n",
    "print(i1)\n",
    "print(i1)\n"
   ]
  },
  {
   "cell_type": "code",
   "execution_count": 84,
   "metadata": {},
   "outputs": [
    {
     "data": {
      "text/plain": [
       "{'contractSymbol': 'AAPL220916P00135000',\n",
       " 'strike': 135.0,\n",
       " 'currency': 'USD',\n",
       " 'lastPrice': 19.4,\n",
       " 'change': 0.0,\n",
       " 'percentChange': 0.0,\n",
       " 'volume': 2,\n",
       " 'openInterest': 1621,\n",
       " 'bid': 19.5,\n",
       " 'ask': 19.75,\n",
       " 'contractSize': 'REGULAR',\n",
       " 'expiration': 1663286400,\n",
       " 'lastTradeDate': 1619465019,\n",
       " 'impliedVolatility': 0.3105232522583008,\n",
       " 'inTheMoney': True}"
      ]
     },
     "execution_count": 84,
     "metadata": {},
     "output_type": "execute_result"
    }
   ],
   "source": [
    "opcion_valuar[\"JSON\"]"
   ]
  },
  {
   "cell_type": "code",
   "execution_count": 120,
   "metadata": {},
   "outputs": [
    {
     "data": {
      "text/plain": [
       "array([14.82487904])"
      ]
     },
     "execution_count": 120,
     "metadata": {},
     "output_type": "execute_result"
    }
   ],
   "source": [
    "call_hist.iloc[-1].values"
   ]
  },
  {
   "cell_type": "markdown",
   "metadata": {},
   "source": [
    "### Comparando Resultados con Black Scholes"
   ]
  },
  {
   "cell_type": "code",
   "execution_count": 117,
   "metadata": {
    "scrolled": true
   },
   "outputs": [
    {
     "name": "stdout",
     "output_type": "stream",
     "text": [
      "Volatilidad anual 0.31638434493720957\n",
      "Tiempo de maduración 364 días\n",
      "Spot price 134.7050018310547\n",
      "Strike Price 135.0\n",
      "Tasa Libre de riesgo 0.7000000000000001\n"
     ]
    }
   ],
   "source": [
    "# Datos para usar en la fórmula (anualizados)\n",
    "vol = ren[\"AAPL\"].std()*np.sqrt(252)\n",
    "media = ren[\"AAPL\"].mean()*252\n",
    "maduracion = ndays\n",
    "st = closes_aapl.iloc[-1,0]\n",
    "rf = r*360\n",
    "print(\"Volatilidad anual\",vol)\n",
    "print(\"Tiempo de maduración\",maduracion,\"días\")\n",
    "print(\"Spot price\",st)\n",
    "print(\"Strike Price\",K)\n",
    "print(\"Tasa Libre de riesgo\",r*360*100)\n"
   ]
  },
  {
   "cell_type": "code",
   "execution_count": 122,
   "metadata": {},
   "outputs": [
    {
     "name": "stdout",
     "output_type": "stream",
     "text": [
      "El valor de la opción con Black Scholes es: 16.56963837424412 y el valor de la opción simulado es de: [14.82487904]\n"
     ]
    }
   ],
   "source": [
    "#Black Scholes\n",
    "from scipy.stats import norm\n",
    "d1 = (np.log(st/K)+(rf+(vol**2)/2))/vol\n",
    "d2 = d1-vol\n",
    "put = K*np.exp(-rf)*norm.cdf(-d2)-st*norm.cdf(-d1)\n",
    "print(\"El valor de la opción con Black Scholes es:\",put,\"y el valor de la opción simulado es de:\",call_hist.iloc[-1].values)"
   ]
  },
  {
   "cell_type": "code",
   "execution_count": null,
   "metadata": {},
   "outputs": [],
   "source": []
  }
 ],
 "metadata": {
  "kernelspec": {
   "display_name": "Python 3",
   "language": "python",
   "name": "python3"
  },
  "language_info": {
   "codemirror_mode": {
    "name": "ipython",
    "version": 3
   },
   "file_extension": ".py",
   "mimetype": "text/x-python",
   "name": "python",
   "nbconvert_exporter": "python",
   "pygments_lexer": "ipython3",
   "version": "3.8.5"
  }
 },
 "nbformat": 4,
 "nbformat_minor": 2
}
