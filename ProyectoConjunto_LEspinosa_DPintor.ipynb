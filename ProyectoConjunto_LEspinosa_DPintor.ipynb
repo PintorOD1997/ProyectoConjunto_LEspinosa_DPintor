{
 "cells": [
  {
   "cell_type": "markdown",
   "metadata": {},
   "source": [
    "<img style=\"float: left; margin: 30px 15px 15px 15px;\" src=\"https://pngimage.net/wp-content/uploads/2018/06/logo-iteso-png-5.png\" width=\"300\" height=\"500\" /> \n",
    "    \n",
    "    \n",
    "### <font color='navy'> Simulación de procesos financieros. \n",
    "\n",
    "**Nombres:** Diego Pintor Ochoa, Lyha Espinosa García\n",
    "\n",
    "**Fecha:** 28 de abril de 2021.\n",
    "\n",
    "**Expediente** : if72622, if721861.\n",
    "**Profesor:** Oscar David Jaramillo Zuluaga.\n",
    "\n",
    "# Tarea 9: Clase 21"
   ]
  },
  {
   "cell_type": "markdown",
   "metadata": {},
   "source": [
    "## Enunciado de tarea \n",
    "> Replicar el procedimiento anterior para valoración de opciones 'call', pero en este caso para opciones tipo 'put' y compararlo con el valor teórico de la ecuación de Black-Scholes."
   ]
  },
  {
   "cell_type": "markdown",
   "metadata": {},
   "source": [
    "### Solución Lyha Espinosa"
   ]
  },
  {
   "cell_type": "code",
   "execution_count": 1,
   "metadata": {},
   "outputs": [
    {
     "ename": "SyntaxError",
     "evalue": "invalid syntax (<ipython-input-1-9d1c0c122db9>, line 2)",
     "output_type": "error",
     "traceback": [
      "\u001b[1;36m  File \u001b[1;32m\"<ipython-input-1-9d1c0c122db9>\"\u001b[1;36m, line \u001b[1;32m2\u001b[0m\n\u001b[1;33m    .\u001b[0m\n\u001b[1;37m    ^\u001b[0m\n\u001b[1;31mSyntaxError\u001b[0m\u001b[1;31m:\u001b[0m invalid syntax\n"
     ]
    }
   ],
   "source": [
    "#importar los paquetes que se van a usar\n",
    "import pandas as pd\n",
    "import pandas_datareader.data as web\n",
    "import numpy as np\n",
    "import datetime\n",
    "import matplotlib.pyplot as plt\n",
    "import scipy.stats as st\n",
    "import seaborn as sns\n",
    "%matplotlib inline\n",
    "#algunas opciones para Pandas\n",
    "pd.set_option('display.notebook_repr_html', True)\n",
    "pd.set_option('display.max_columns', 6)\n",
    "pd.set_option('display.max_rows', 10)\n",
    "pd.set_option('display.width', 78)\n",
    "pd.set_option('precision', 3)"
   ]
  },
  {
   "cell_type": "code",
   "execution_count": 2,
   "metadata": {},
   "outputs": [],
   "source": [
    "# Función para descargar precios de cierre ajustados:\n",
    "def get_adj_closes(tickers, start_date=None, end_date=None):\n",
    "    # Fecha inicio por defecto (start_date='2010-01-01') y fecha fin por defecto (end_date=today)\n",
    "    # Descargamos DataFrame con todos los datos\n",
    "    closes = web.DataReader(name=tickers, data_source='yahoo', start=start_date, end=end_date)\n",
    "    # Solo necesitamos los precios ajustados en el cierre\n",
    "    closes = closes['Adj Close']\n",
    "    # Se ordenan los índices de manera ascendente\n",
    "    closes.sort_index(inplace=True)\n",
    "    return closes\n",
    "\n",
    "def calc_daily_ret(closes):\n",
    "    return np.log(closes/closes.shift(1)).iloc[1:]"
   ]
  },
  {
   "cell_type": "markdown",
   "metadata": {},
   "source": [
    "Descarga de datos de opciones de Microsoft "
   ]
  },
  {
   "cell_type": "code",
   "execution_count": 3,
   "metadata": {},
   "outputs": [
    {
     "data": {
      "text/html": [
       "<div>\n",
       "<style scoped>\n",
       "    .dataframe tbody tr th:only-of-type {\n",
       "        vertical-align: middle;\n",
       "    }\n",
       "\n",
       "    .dataframe tbody tr th {\n",
       "        vertical-align: top;\n",
       "    }\n",
       "\n",
       "    .dataframe thead th {\n",
       "        text-align: right;\n",
       "    }\n",
       "</style>\n",
       "<table border=\"1\" class=\"dataframe\">\n",
       "  <thead>\n",
       "    <tr style=\"text-align: right;\">\n",
       "      <th></th>\n",
       "      <th>Strike</th>\n",
       "      <th>Type</th>\n",
       "      <th>Symbol</th>\n",
       "      <th>...</th>\n",
       "      <th>Quote_Time</th>\n",
       "      <th>Last_Trade_Date</th>\n",
       "      <th>JSON</th>\n",
       "    </tr>\n",
       "    <tr>\n",
       "      <th>Expiry</th>\n",
       "      <th></th>\n",
       "      <th></th>\n",
       "      <th></th>\n",
       "      <th></th>\n",
       "      <th></th>\n",
       "      <th></th>\n",
       "      <th></th>\n",
       "    </tr>\n",
       "  </thead>\n",
       "  <tbody>\n",
       "    <tr>\n",
       "      <th>2021-04-30</th>\n",
       "      <td>240.0</td>\n",
       "      <td>put</td>\n",
       "      <td>MSFT210430P00240000</td>\n",
       "      <td>...</td>\n",
       "      <td>2021-04-27 17:43:11</td>\n",
       "      <td>2021-04-27 17:25:07</td>\n",
       "      <td>{'contractSymbol': 'MSFT210430P00240000', 'str...</td>\n",
       "    </tr>\n",
       "    <tr>\n",
       "      <th>2021-04-30</th>\n",
       "      <td>270.0</td>\n",
       "      <td>call</td>\n",
       "      <td>MSFT210430C00270000</td>\n",
       "      <td>...</td>\n",
       "      <td>2021-04-27 17:43:11</td>\n",
       "      <td>2021-04-27 17:27:38</td>\n",
       "      <td>{'contractSymbol': 'MSFT210430C00270000', 'str...</td>\n",
       "    </tr>\n",
       "    <tr>\n",
       "      <th>2021-04-30</th>\n",
       "      <td>237.5</td>\n",
       "      <td>call</td>\n",
       "      <td>MSFT210430C00237500</td>\n",
       "      <td>...</td>\n",
       "      <td>2021-04-27 17:43:11</td>\n",
       "      <td>2021-04-27 17:22:32</td>\n",
       "      <td>{'contractSymbol': 'MSFT210430C00237500', 'str...</td>\n",
       "    </tr>\n",
       "    <tr>\n",
       "      <th>2021-04-30</th>\n",
       "      <td>237.5</td>\n",
       "      <td>put</td>\n",
       "      <td>MSFT210430P00237500</td>\n",
       "      <td>...</td>\n",
       "      <td>2021-04-27 17:43:11</td>\n",
       "      <td>2021-04-27 17:26:00</td>\n",
       "      <td>{'contractSymbol': 'MSFT210430P00237500', 'str...</td>\n",
       "    </tr>\n",
       "    <tr>\n",
       "      <th>2021-04-30</th>\n",
       "      <td>295.0</td>\n",
       "      <td>call</td>\n",
       "      <td>MSFT210430C00295000</td>\n",
       "      <td>...</td>\n",
       "      <td>2021-04-27 17:43:11</td>\n",
       "      <td>2021-04-27 16:27:24</td>\n",
       "      <td>{'contractSymbol': 'MSFT210430C00295000', 'str...</td>\n",
       "    </tr>\n",
       "    <tr>\n",
       "      <th>...</th>\n",
       "      <td>...</td>\n",
       "      <td>...</td>\n",
       "      <td>...</td>\n",
       "      <td>...</td>\n",
       "      <td>...</td>\n",
       "      <td>...</td>\n",
       "      <td>...</td>\n",
       "    </tr>\n",
       "    <tr>\n",
       "      <th>2023-06-16</th>\n",
       "      <td>285.0</td>\n",
       "      <td>call</td>\n",
       "      <td>MSFT230616C00285000</td>\n",
       "      <td>...</td>\n",
       "      <td>2021-04-27 17:43:16</td>\n",
       "      <td>2021-04-27 13:53:02</td>\n",
       "      <td>{'contractSymbol': 'MSFT230616C00285000', 'str...</td>\n",
       "    </tr>\n",
       "    <tr>\n",
       "      <th>2023-06-16</th>\n",
       "      <td>115.0</td>\n",
       "      <td>put</td>\n",
       "      <td>MSFT230616P00115000</td>\n",
       "      <td>...</td>\n",
       "      <td>2021-04-27 17:43:16</td>\n",
       "      <td>2021-04-26 16:04:29</td>\n",
       "      <td>{'contractSymbol': 'MSFT230616P00115000', 'str...</td>\n",
       "    </tr>\n",
       "    <tr>\n",
       "      <th>2023-06-16</th>\n",
       "      <td>115.0</td>\n",
       "      <td>call</td>\n",
       "      <td>MSFT230616C00115000</td>\n",
       "      <td>...</td>\n",
       "      <td>2021-04-27 17:43:16</td>\n",
       "      <td>2021-04-27 17:25:45</td>\n",
       "      <td>{'contractSymbol': 'MSFT230616C00115000', 'str...</td>\n",
       "    </tr>\n",
       "    <tr>\n",
       "      <th>2023-06-16</th>\n",
       "      <td>125.0</td>\n",
       "      <td>call</td>\n",
       "      <td>MSFT230616C00125000</td>\n",
       "      <td>...</td>\n",
       "      <td>2021-04-27 17:43:16</td>\n",
       "      <td>2021-04-26 16:04:29</td>\n",
       "      <td>{'contractSymbol': 'MSFT230616C00125000', 'str...</td>\n",
       "    </tr>\n",
       "    <tr>\n",
       "      <th>2023-06-16</th>\n",
       "      <td>390.0</td>\n",
       "      <td>call</td>\n",
       "      <td>MSFT230616C00390000</td>\n",
       "      <td>...</td>\n",
       "      <td>2021-04-27 17:43:16</td>\n",
       "      <td>2021-04-27 16:59:03</td>\n",
       "      <td>{'contractSymbol': 'MSFT230616C00390000', 'str...</td>\n",
       "    </tr>\n",
       "  </tbody>\n",
       "</table>\n",
       "<p>1852 rows × 18 columns</p>\n",
       "</div>"
      ],
      "text/plain": [
       "            Strike  Type               Symbol  ...          Quote_Time  \\\n",
       "Expiry                                         ...                       \n",
       "2021-04-30   240.0   put  MSFT210430P00240000  ... 2021-04-27 17:43:11   \n",
       "2021-04-30   270.0  call  MSFT210430C00270000  ... 2021-04-27 17:43:11   \n",
       "2021-04-30   237.5  call  MSFT210430C00237500  ... 2021-04-27 17:43:11   \n",
       "2021-04-30   237.5   put  MSFT210430P00237500  ... 2021-04-27 17:43:11   \n",
       "2021-04-30   295.0  call  MSFT210430C00295000  ... 2021-04-27 17:43:11   \n",
       "...            ...   ...                  ...  ...                 ...   \n",
       "2023-06-16   285.0  call  MSFT230616C00285000  ... 2021-04-27 17:43:16   \n",
       "2023-06-16   115.0   put  MSFT230616P00115000  ... 2021-04-27 17:43:16   \n",
       "2023-06-16   115.0  call  MSFT230616C00115000  ... 2021-04-27 17:43:16   \n",
       "2023-06-16   125.0  call  MSFT230616C00125000  ... 2021-04-27 17:43:16   \n",
       "2023-06-16   390.0  call  MSFT230616C00390000  ... 2021-04-27 17:43:16   \n",
       "\n",
       "               Last_Trade_Date  \\\n",
       "Expiry                           \n",
       "2021-04-30 2021-04-27 17:25:07   \n",
       "2021-04-30 2021-04-27 17:27:38   \n",
       "2021-04-30 2021-04-27 17:22:32   \n",
       "2021-04-30 2021-04-27 17:26:00   \n",
       "2021-04-30 2021-04-27 16:27:24   \n",
       "...                        ...   \n",
       "2023-06-16 2021-04-27 13:53:02   \n",
       "2023-06-16 2021-04-26 16:04:29   \n",
       "2023-06-16 2021-04-27 17:25:45   \n",
       "2023-06-16 2021-04-26 16:04:29   \n",
       "2023-06-16 2021-04-27 16:59:03   \n",
       "\n",
       "                                                         JSON  \n",
       "Expiry                                                         \n",
       "2021-04-30  {'contractSymbol': 'MSFT210430P00240000', 'str...  \n",
       "2021-04-30  {'contractSymbol': 'MSFT210430C00270000', 'str...  \n",
       "2021-04-30  {'contractSymbol': 'MSFT210430C00237500', 'str...  \n",
       "2021-04-30  {'contractSymbol': 'MSFT210430P00237500', 'str...  \n",
       "2021-04-30  {'contractSymbol': 'MSFT210430C00295000', 'str...  \n",
       "...                                                       ...  \n",
       "2023-06-16  {'contractSymbol': 'MSFT230616C00285000', 'str...  \n",
       "2023-06-16  {'contractSymbol': 'MSFT230616P00115000', 'str...  \n",
       "2023-06-16  {'contractSymbol': 'MSFT230616C00115000', 'str...  \n",
       "2023-06-16  {'contractSymbol': 'MSFT230616C00125000', 'str...  \n",
       "2023-06-16  {'contractSymbol': 'MSFT230616C00390000', 'str...  \n",
       "\n",
       "[1852 rows x 18 columns]"
      ]
     },
     "execution_count": 3,
     "metadata": {},
     "output_type": "execute_result"
    }
   ],
   "source": [
    "micro = web.YahooOptions('MSFT')\n",
    "micro_opt = micro.get_all_data().reset_index()\n",
    "micro_opt.set_index('Expiry').sort_index()"
   ]
  },
  {
   "cell_type": "code",
   "execution_count": 4,
   "metadata": {},
   "outputs": [
    {
     "data": {
      "text/plain": [
       "261.51"
      ]
     },
     "execution_count": 4,
     "metadata": {},
     "output_type": "execute_result"
    }
   ],
   "source": [
    "# Precio activo subyacente\n",
    "micro_opt.Underlying_Price[0]"
   ]
  },
  {
   "cell_type": "code",
   "execution_count": 5,
   "metadata": {},
   "outputs": [
    {
     "data": {
      "text/html": [
       "<div>\n",
       "<style scoped>\n",
       "    .dataframe tbody tr th:only-of-type {\n",
       "        vertical-align: middle;\n",
       "    }\n",
       "\n",
       "    .dataframe tbody tr th {\n",
       "        vertical-align: top;\n",
       "    }\n",
       "\n",
       "    .dataframe thead th {\n",
       "        text-align: right;\n",
       "    }\n",
       "</style>\n",
       "<table border=\"1\" class=\"dataframe\">\n",
       "  <thead>\n",
       "    <tr style=\"text-align: right;\">\n",
       "      <th></th>\n",
       "      <th>Strike</th>\n",
       "      <th>Expiry</th>\n",
       "      <th>Type</th>\n",
       "      <th>...</th>\n",
       "      <th>Quote_Time</th>\n",
       "      <th>Last_Trade_Date</th>\n",
       "      <th>JSON</th>\n",
       "    </tr>\n",
       "  </thead>\n",
       "  <tbody>\n",
       "    <tr>\n",
       "      <th>1150</th>\n",
       "      <td>260.0</td>\n",
       "      <td>2023-06-16</td>\n",
       "      <td>put</td>\n",
       "      <td>...</td>\n",
       "      <td>2021-04-27 17:43:16</td>\n",
       "      <td>2021-04-27 16:58:38</td>\n",
       "      <td>{'contractSymbol': 'MSFT230616P00260000', 'str...</td>\n",
       "    </tr>\n",
       "  </tbody>\n",
       "</table>\n",
       "<p>1 rows × 19 columns</p>\n",
       "</div>"
      ],
      "text/plain": [
       "      Strike     Expiry Type  ...          Quote_Time     Last_Trade_Date  \\\n",
       "1150   260.0 2023-06-16  put  ... 2021-04-27 17:43:16 2021-04-27 16:58:38   \n",
       "\n",
       "                                                   JSON  \n",
       "1150  {'contractSymbol': 'MSFT230616P00260000', 'str...  \n",
       "\n",
       "[1 rows x 19 columns]"
      ]
     },
     "execution_count": 5,
     "metadata": {},
     "output_type": "execute_result"
    }
   ],
   "source": [
    "K = 260 # Strike price\n",
    "indice_opt = micro_opt.loc[(micro_opt.Type=='put') & (micro_opt.Strike==K) & (micro_opt.Expiry=='2023-06-16')]\n",
    "indice_opt"
   ]
  },
  {
   "cell_type": "code",
   "execution_count": 6,
   "metadata": {},
   "outputs": [
    {
     "data": {
      "text/plain": [
       "{'contractSymbol': 'MSFT230616P00260000',\n",
       " 'strike': 260.0,\n",
       " 'currency': 'USD',\n",
       " 'lastPrice': 39.45,\n",
       " 'change': 0.47000122,\n",
       " 'percentChange': 1.2057498,\n",
       " 'volume': 75,\n",
       " 'openInterest': 112,\n",
       " 'bid': 38.0,\n",
       " 'ask': 41.1,\n",
       " 'contractSize': 'REGULAR',\n",
       " 'expiration': 1686873600,\n",
       " 'lastTradeDate': 1619542718,\n",
       " 'impliedVolatility': 0.2771220970153808,\n",
       " 'inTheMoney': False}"
      ]
     },
     "execution_count": 6,
     "metadata": {},
     "output_type": "execute_result"
    }
   ],
   "source": [
    "i_opt= indice_opt.index\n",
    "opcion_valuar = micro_opt.loc[i_opt[0]]\n",
    "opcion_valuar['JSON']"
   ]
  },
  {
   "cell_type": "code",
   "execution_count": 7,
   "metadata": {},
   "outputs": [
    {
     "name": "stdout",
     "output_type": "stream",
     "text": [
      "Precio del activo subyacente actual =  261.51\n"
     ]
    }
   ],
   "source": [
    "print('Precio del activo subyacente actual = ',opcion_valuar.Underlying_Price)"
   ]
  },
  {
   "cell_type": "markdown",
   "metadata": {},
   "source": [
    "## Simulación de precios usando rendimiento logarítmico"
   ]
  },
  {
   "cell_type": "code",
   "execution_count": 8,
   "metadata": {},
   "outputs": [
    {
     "data": {
      "text/html": [
       "<div>\n",
       "<style scoped>\n",
       "    .dataframe tbody tr th:only-of-type {\n",
       "        vertical-align: middle;\n",
       "    }\n",
       "\n",
       "    .dataframe tbody tr th {\n",
       "        vertical-align: top;\n",
       "    }\n",
       "\n",
       "    .dataframe thead th {\n",
       "        text-align: right;\n",
       "    }\n",
       "</style>\n",
       "<table border=\"1\" class=\"dataframe\">\n",
       "  <thead>\n",
       "    <tr style=\"text-align: right;\">\n",
       "      <th>Symbols</th>\n",
       "      <th>MSFT</th>\n",
       "    </tr>\n",
       "    <tr>\n",
       "      <th>Date</th>\n",
       "      <th></th>\n",
       "    </tr>\n",
       "  </thead>\n",
       "  <tbody>\n",
       "    <tr>\n",
       "      <th>2017-01-04</th>\n",
       "      <td>-4.474e-03</td>\n",
       "    </tr>\n",
       "    <tr>\n",
       "      <th>2017-01-05</th>\n",
       "      <td>0.000e+00</td>\n",
       "    </tr>\n",
       "    <tr>\n",
       "      <th>2017-01-06</th>\n",
       "      <td>8.668e-03</td>\n",
       "    </tr>\n",
       "    <tr>\n",
       "      <th>2017-01-09</th>\n",
       "      <td>-3.183e-03</td>\n",
       "    </tr>\n",
       "    <tr>\n",
       "      <th>2017-01-10</th>\n",
       "      <td>-3.194e-04</td>\n",
       "    </tr>\n",
       "    <tr>\n",
       "      <th>...</th>\n",
       "      <td>...</td>\n",
       "    </tr>\n",
       "    <tr>\n",
       "      <th>2021-04-21</th>\n",
       "      <td>8.983e-03</td>\n",
       "    </tr>\n",
       "    <tr>\n",
       "      <th>2021-04-22</th>\n",
       "      <td>-1.309e-02</td>\n",
       "    </tr>\n",
       "    <tr>\n",
       "      <th>2021-04-23</th>\n",
       "      <td>1.548e-02</td>\n",
       "    </tr>\n",
       "    <tr>\n",
       "      <th>2021-04-26</th>\n",
       "      <td>1.532e-03</td>\n",
       "    </tr>\n",
       "    <tr>\n",
       "      <th>2021-04-27</th>\n",
       "      <td>-2.485e-04</td>\n",
       "    </tr>\n",
       "  </tbody>\n",
       "</table>\n",
       "<p>1085 rows × 1 columns</p>\n",
       "</div>"
      ],
      "text/plain": [
       "Symbols          MSFT\n",
       "Date                 \n",
       "2017-01-04 -4.474e-03\n",
       "2017-01-05  0.000e+00\n",
       "2017-01-06  8.668e-03\n",
       "2017-01-09 -3.183e-03\n",
       "2017-01-10 -3.194e-04\n",
       "...               ...\n",
       "2021-04-21  8.983e-03\n",
       "2021-04-22 -1.309e-02\n",
       "2021-04-23  1.548e-02\n",
       "2021-04-26  1.532e-03\n",
       "2021-04-27 -2.485e-04\n",
       "\n",
       "[1085 rows x 1 columns]"
      ]
     },
     "execution_count": 8,
     "metadata": {},
     "output_type": "execute_result"
    }
   ],
   "source": [
    "ticker = ['MSFT']\n",
    "start_date = '2017-01-01'\n",
    "\n",
    "closes_micro = get_adj_closes(ticker, start_date)\n",
    "\n",
    "# Obtenemos el rendimiento simple\n",
    "Ri = closes_micro.pct_change(1).iloc[1:]\n",
    "# Obtenemos su media y desviación estándar de los rendimientos\n",
    "mu_R = Ri.mean()[0]\n",
    "sigma_R = Ri.std()[0]\n",
    "Ri"
   ]
  },
  {
   "cell_type": "code",
   "execution_count": 9,
   "metadata": {},
   "outputs": [],
   "source": [
    "ret_micro = calc_daily_ret(closes_micro)"
   ]
  },
  {
   "cell_type": "code",
   "execution_count": 10,
   "metadata": {},
   "outputs": [],
   "source": [
    "from datetime import date\n",
    "\n",
    "# Encontrar la fecha de hoy en fomato timestamp\n",
    "today = pd.to_datetime(date.today())\n",
    "\n",
    "# Obtener fecha de cierre de la opción a valuar\n",
    "expiry = opcion_valuar.Expiry\n",
    "\n",
    "nscen = 10000\n",
    "\n",
    "# Generar rangos de fechas de días hábiles\n",
    "dates = pd.date_range(today, expiry, freq='B')\n",
    "ndays = len(dates)"
   ]
  },
  {
   "cell_type": "code",
   "execution_count": 11,
   "metadata": {},
   "outputs": [],
   "source": [
    "# Calcular rendimiento logarítmico\n",
    "ri = calc_daily_ret(closes_micro)\n",
    "\n",
    "# Usando la media y desviación estándar de los rendimientos logarítmicos\n",
    "mu_r = ri.mean()[0]\n",
    "sigma_r = ri.std()[0]\n",
    "\n",
    "# Simulación del rendimiento\n",
    "dt = 1\n",
    "Z = np.random.randn(ndays, nscen)\n",
    "sim_ret_ri = pd.DataFrame(mu_r * dt + Z * sigma_r * np.sqrt(dt), index=dates )\n",
    "\n",
    "# Simulación del precio\n",
    "S_0 = closes_micro.iloc[-1,0]\n",
    "S_T2 = S_0*np.exp(sim_ret_ri.cumsum())"
   ]
  },
  {
   "cell_type": "markdown",
   "metadata": {},
   "source": [
    "# Valoración usado B&S"
   ]
  },
  {
   "cell_type": "code",
   "execution_count": 12,
   "metadata": {},
   "outputs": [
    {
     "data": {
      "text/plain": [
       "(0.0013794411160937298, 0.017998636367401868)"
      ]
     },
     "execution_count": 12,
     "metadata": {},
     "output_type": "execute_result"
    }
   ],
   "source": [
    "# media y desviación estandar muestral de los rendimietnos logaritmicos\n",
    "mu = ret_micro.mean()[0]\n",
    "sigma = ret_micro.std()[0]\n",
    "mu, sigma"
   ]
  },
  {
   "cell_type": "code",
   "execution_count": 13,
   "metadata": {},
   "outputs": [],
   "source": [
    "# Tasa de bonos de 1 yr de fecha 26/04/2021 -> 0.06%\n",
    "r = 0.0006/360 # Tasa diaria"
   ]
  },
  {
   "cell_type": "code",
   "execution_count": 14,
   "metadata": {},
   "outputs": [
    {
     "data": {
      "text/plain": [
       "DatetimeIndex(['2021-04-27', '2021-04-28', '2021-04-29', '2021-04-30',\n",
       "               '2021-05-03', '2021-05-04', '2021-05-05', '2021-05-06',\n",
       "               '2021-05-07', '2021-05-10',\n",
       "               ...\n",
       "               '2023-06-05', '2023-06-06', '2023-06-07', '2023-06-08',\n",
       "               '2023-06-09', '2023-06-12', '2023-06-13', '2023-06-14',\n",
       "               '2023-06-15', '2023-06-16'],\n",
       "              dtype='datetime64[ns]', length=559, freq='B')"
      ]
     },
     "execution_count": 14,
     "metadata": {},
     "output_type": "execute_result"
    }
   ],
   "source": [
    "today = pd.Timestamp(date.today())\n",
    "expiry = opcion_valuar.Expiry\n",
    "\n",
    "dates = pd.date_range(start=today, end=expiry, freq='B')\n",
    "\n",
    "ndays = len(dates)\n",
    "nscen = 10\n",
    "dates"
   ]
  },
  {
   "cell_type": "code",
   "execution_count": 15,
   "metadata": {},
   "outputs": [
    {
     "data": {
      "text/html": [
       "<div>\n",
       "<style scoped>\n",
       "    .dataframe tbody tr th:only-of-type {\n",
       "        vertical-align: middle;\n",
       "    }\n",
       "\n",
       "    .dataframe tbody tr th {\n",
       "        vertical-align: top;\n",
       "    }\n",
       "\n",
       "    .dataframe thead th {\n",
       "        text-align: right;\n",
       "    }\n",
       "</style>\n",
       "<table border=\"1\" class=\"dataframe\">\n",
       "  <thead>\n",
       "    <tr style=\"text-align: right;\">\n",
       "      <th></th>\n",
       "      <th>0</th>\n",
       "      <th>1</th>\n",
       "      <th>2</th>\n",
       "      <th>...</th>\n",
       "      <th>7</th>\n",
       "      <th>8</th>\n",
       "      <th>9</th>\n",
       "    </tr>\n",
       "  </thead>\n",
       "  <tbody>\n",
       "    <tr>\n",
       "      <th>2021-04-27</th>\n",
       "      <td>-2.880e-03</td>\n",
       "      <td>-0.003</td>\n",
       "      <td>0.007</td>\n",
       "      <td>...</td>\n",
       "      <td>-0.010</td>\n",
       "      <td>0.025</td>\n",
       "      <td>-0.009</td>\n",
       "    </tr>\n",
       "    <tr>\n",
       "      <th>2021-04-28</th>\n",
       "      <td>1.681e-04</td>\n",
       "      <td>-0.010</td>\n",
       "      <td>-0.018</td>\n",
       "      <td>...</td>\n",
       "      <td>-0.018</td>\n",
       "      <td>0.034</td>\n",
       "      <td>-0.013</td>\n",
       "    </tr>\n",
       "    <tr>\n",
       "      <th>2021-04-29</th>\n",
       "      <td>-2.095e-02</td>\n",
       "      <td>0.004</td>\n",
       "      <td>-0.011</td>\n",
       "      <td>...</td>\n",
       "      <td>-0.016</td>\n",
       "      <td>0.002</td>\n",
       "      <td>-0.006</td>\n",
       "    </tr>\n",
       "    <tr>\n",
       "      <th>2021-04-30</th>\n",
       "      <td>-4.803e-02</td>\n",
       "      <td>-0.009</td>\n",
       "      <td>-0.017</td>\n",
       "      <td>...</td>\n",
       "      <td>-0.014</td>\n",
       "      <td>-0.007</td>\n",
       "      <td>-0.009</td>\n",
       "    </tr>\n",
       "    <tr>\n",
       "      <th>2021-05-03</th>\n",
       "      <td>-3.309e-02</td>\n",
       "      <td>-0.006</td>\n",
       "      <td>-0.042</td>\n",
       "      <td>...</td>\n",
       "      <td>-0.016</td>\n",
       "      <td>-0.028</td>\n",
       "      <td>-0.024</td>\n",
       "    </tr>\n",
       "    <tr>\n",
       "      <th>...</th>\n",
       "      <td>...</td>\n",
       "      <td>...</td>\n",
       "      <td>...</td>\n",
       "      <td>...</td>\n",
       "      <td>...</td>\n",
       "      <td>...</td>\n",
       "      <td>...</td>\n",
       "    </tr>\n",
       "    <tr>\n",
       "      <th>2023-06-12</th>\n",
       "      <td>-4.666e-03</td>\n",
       "      <td>0.544</td>\n",
       "      <td>-0.139</td>\n",
       "      <td>...</td>\n",
       "      <td>0.069</td>\n",
       "      <td>-0.609</td>\n",
       "      <td>0.020</td>\n",
       "    </tr>\n",
       "    <tr>\n",
       "      <th>2023-06-13</th>\n",
       "      <td>9.336e-03</td>\n",
       "      <td>0.531</td>\n",
       "      <td>-0.119</td>\n",
       "      <td>...</td>\n",
       "      <td>0.063</td>\n",
       "      <td>-0.589</td>\n",
       "      <td>0.041</td>\n",
       "    </tr>\n",
       "    <tr>\n",
       "      <th>2023-06-14</th>\n",
       "      <td>-1.347e-02</td>\n",
       "      <td>0.526</td>\n",
       "      <td>-0.101</td>\n",
       "      <td>...</td>\n",
       "      <td>0.092</td>\n",
       "      <td>-0.577</td>\n",
       "      <td>0.040</td>\n",
       "    </tr>\n",
       "    <tr>\n",
       "      <th>2023-06-15</th>\n",
       "      <td>-3.119e-02</td>\n",
       "      <td>0.492</td>\n",
       "      <td>-0.117</td>\n",
       "      <td>...</td>\n",
       "      <td>0.090</td>\n",
       "      <td>-0.598</td>\n",
       "      <td>0.044</td>\n",
       "    </tr>\n",
       "    <tr>\n",
       "      <th>2023-06-16</th>\n",
       "      <td>-2.289e-02</td>\n",
       "      <td>0.525</td>\n",
       "      <td>-0.100</td>\n",
       "      <td>...</td>\n",
       "      <td>0.104</td>\n",
       "      <td>-0.605</td>\n",
       "      <td>0.046</td>\n",
       "    </tr>\n",
       "  </tbody>\n",
       "</table>\n",
       "<p>559 rows × 10 columns</p>\n",
       "</div>"
      ],
      "text/plain": [
       "                    0      1      2  ...      7      8      9\n",
       "2021-04-27 -2.880e-03 -0.003  0.007  ... -0.010  0.025 -0.009\n",
       "2021-04-28  1.681e-04 -0.010 -0.018  ... -0.018  0.034 -0.013\n",
       "2021-04-29 -2.095e-02  0.004 -0.011  ... -0.016  0.002 -0.006\n",
       "2021-04-30 -4.803e-02 -0.009 -0.017  ... -0.014 -0.007 -0.009\n",
       "2021-05-03 -3.309e-02 -0.006 -0.042  ... -0.016 -0.028 -0.024\n",
       "...               ...    ...    ...  ...    ...    ...    ...\n",
       "2023-06-12 -4.666e-03  0.544 -0.139  ...  0.069 -0.609  0.020\n",
       "2023-06-13  9.336e-03  0.531 -0.119  ...  0.063 -0.589  0.041\n",
       "2023-06-14 -1.347e-02  0.526 -0.101  ...  0.092 -0.577  0.040\n",
       "2023-06-15 -3.119e-02  0.492 -0.117  ...  0.090 -0.598  0.044\n",
       "2023-06-16 -2.289e-02  0.525 -0.100  ...  0.104 -0.605  0.046\n",
       "\n",
       "[559 rows x 10 columns]"
      ]
     },
     "execution_count": 15,
     "metadata": {},
     "output_type": "execute_result"
    }
   ],
   "source": [
    "sim_ret = pd.DataFrame(sigma*np.random.randn(ndays,nscen)+r, index=dates)\n",
    "sim_ret.cumsum()"
   ]
  },
  {
   "cell_type": "code",
   "execution_count": 16,
   "metadata": {},
   "outputs": [
    {
     "data": {
      "text/html": [
       "<div>\n",
       "<style scoped>\n",
       "    .dataframe tbody tr th:only-of-type {\n",
       "        vertical-align: middle;\n",
       "    }\n",
       "\n",
       "    .dataframe tbody tr th {\n",
       "        vertical-align: top;\n",
       "    }\n",
       "\n",
       "    .dataframe thead th {\n",
       "        text-align: right;\n",
       "    }\n",
       "</style>\n",
       "<table border=\"1\" class=\"dataframe\">\n",
       "  <thead>\n",
       "    <tr style=\"text-align: right;\">\n",
       "      <th></th>\n",
       "      <th>0</th>\n",
       "      <th>1</th>\n",
       "      <th>2</th>\n",
       "      <th>...</th>\n",
       "      <th>7</th>\n",
       "      <th>8</th>\n",
       "      <th>9</th>\n",
       "    </tr>\n",
       "  </thead>\n",
       "  <tbody>\n",
       "    <tr>\n",
       "      <th>2021-04-27</th>\n",
       "      <td>261.485</td>\n",
       "      <td>261.485</td>\n",
       "      <td>261.485</td>\n",
       "      <td>...</td>\n",
       "      <td>261.485</td>\n",
       "      <td>261.485</td>\n",
       "      <td>261.485</td>\n",
       "    </tr>\n",
       "    <tr>\n",
       "      <th>2021-04-28</th>\n",
       "      <td>261.529</td>\n",
       "      <td>258.801</td>\n",
       "      <td>256.866</td>\n",
       "      <td>...</td>\n",
       "      <td>256.864</td>\n",
       "      <td>270.591</td>\n",
       "      <td>258.005</td>\n",
       "    </tr>\n",
       "    <tr>\n",
       "      <th>2021-04-29</th>\n",
       "      <td>256.063</td>\n",
       "      <td>262.585</td>\n",
       "      <td>258.574</td>\n",
       "      <td>...</td>\n",
       "      <td>257.383</td>\n",
       "      <td>262.113</td>\n",
       "      <td>259.886</td>\n",
       "    </tr>\n",
       "    <tr>\n",
       "      <th>2021-04-30</th>\n",
       "      <td>249.224</td>\n",
       "      <td>259.064</td>\n",
       "      <td>257.060</td>\n",
       "      <td>...</td>\n",
       "      <td>257.925</td>\n",
       "      <td>259.607</td>\n",
       "      <td>259.049</td>\n",
       "    </tr>\n",
       "    <tr>\n",
       "      <th>2021-05-03</th>\n",
       "      <td>252.974</td>\n",
       "      <td>259.889</td>\n",
       "      <td>250.693</td>\n",
       "      <td>...</td>\n",
       "      <td>257.406</td>\n",
       "      <td>254.329</td>\n",
       "      <td>255.214</td>\n",
       "    </tr>\n",
       "    <tr>\n",
       "      <th>...</th>\n",
       "      <td>...</td>\n",
       "      <td>...</td>\n",
       "      <td>...</td>\n",
       "      <td>...</td>\n",
       "      <td>...</td>\n",
       "      <td>...</td>\n",
       "      <td>...</td>\n",
       "    </tr>\n",
       "    <tr>\n",
       "      <th>2023-06-12</th>\n",
       "      <td>260.268</td>\n",
       "      <td>450.445</td>\n",
       "      <td>227.665</td>\n",
       "      <td>...</td>\n",
       "      <td>280.049</td>\n",
       "      <td>142.187</td>\n",
       "      <td>266.767</td>\n",
       "    </tr>\n",
       "    <tr>\n",
       "      <th>2023-06-13</th>\n",
       "      <td>263.938</td>\n",
       "      <td>444.784</td>\n",
       "      <td>232.114</td>\n",
       "      <td>...</td>\n",
       "      <td>278.486</td>\n",
       "      <td>145.064</td>\n",
       "      <td>272.317</td>\n",
       "    </tr>\n",
       "    <tr>\n",
       "      <th>2023-06-14</th>\n",
       "      <td>257.986</td>\n",
       "      <td>442.315</td>\n",
       "      <td>236.356</td>\n",
       "      <td>...</td>\n",
       "      <td>286.608</td>\n",
       "      <td>146.915</td>\n",
       "      <td>272.028</td>\n",
       "    </tr>\n",
       "    <tr>\n",
       "      <th>2023-06-15</th>\n",
       "      <td>253.455</td>\n",
       "      <td>427.542</td>\n",
       "      <td>232.645</td>\n",
       "      <td>...</td>\n",
       "      <td>285.984</td>\n",
       "      <td>143.859</td>\n",
       "      <td>273.302</td>\n",
       "    </tr>\n",
       "    <tr>\n",
       "      <th>2023-06-16</th>\n",
       "      <td>255.567</td>\n",
       "      <td>441.924</td>\n",
       "      <td>236.547</td>\n",
       "      <td>...</td>\n",
       "      <td>290.139</td>\n",
       "      <td>142.779</td>\n",
       "      <td>273.903</td>\n",
       "    </tr>\n",
       "  </tbody>\n",
       "</table>\n",
       "<p>559 rows × 10 columns</p>\n",
       "</div>"
      ],
      "text/plain": [
       "                  0        1        2  ...        7        8        9\n",
       "2021-04-27  261.485  261.485  261.485  ...  261.485  261.485  261.485\n",
       "2021-04-28  261.529  258.801  256.866  ...  256.864  270.591  258.005\n",
       "2021-04-29  256.063  262.585  258.574  ...  257.383  262.113  259.886\n",
       "2021-04-30  249.224  259.064  257.060  ...  257.925  259.607  259.049\n",
       "2021-05-03  252.974  259.889  250.693  ...  257.406  254.329  255.214\n",
       "...             ...      ...      ...  ...      ...      ...      ...\n",
       "2023-06-12  260.268  450.445  227.665  ...  280.049  142.187  266.767\n",
       "2023-06-13  263.938  444.784  232.114  ...  278.486  145.064  272.317\n",
       "2023-06-14  257.986  442.315  236.356  ...  286.608  146.915  272.028\n",
       "2023-06-15  253.455  427.542  232.645  ...  285.984  143.859  273.302\n",
       "2023-06-16  255.567  441.924  236.547  ...  290.139  142.779  273.903\n",
       "\n",
       "[559 rows x 10 columns]"
      ]
     },
     "execution_count": 16,
     "metadata": {},
     "output_type": "execute_result"
    }
   ],
   "source": [
    "# Calcular los escenartrios de precios \n",
    "S0 = closes_micro.iloc[-1,0]  # Condición inicial del precio a simular\n",
    "sim_closes = S0*np.exp(sim_ret.cumsum())\n",
    "sim_closes.iloc[0, :] = S0\n",
    "sim_closes"
   ]
  },
  {
   "cell_type": "code",
   "execution_count": 17,
   "metadata": {},
   "outputs": [
    {
     "data": {
      "image/png": "[encoded data removed]",
      "text/plain": [
       "<Figure size 576x432 with 1 Axes>"
      ]
     },
     "metadata": {
      "needs_background": "light"
     },
     "output_type": "display_data"
    },
    {
     "data": {
      "image/png": "[encoded data removed]",
      "text/plain": [
       "<Figure size 576x432 with 1 Axes>"
      ]
     },
     "metadata": {
      "needs_background": "light"
     },
     "output_type": "display_data"
    }
   ],
   "source": [
    "# graficas\n",
    "sim_closes.plot(figsize=(8,6));\n",
    "# Se muestran los precios simulados con los precios descargados\n",
    "pd.concat([closes_micro,sim_closes]).plot(figsize=(8,6));"
   ]
  },
  {
   "cell_type": "code",
   "execution_count": 18,
   "metadata": {},
   "outputs": [
    {
     "data": {
      "text/plain": [
       "Strike                                                            260\n",
       "Expiry                                            2023-06-16 00:00:00\n",
       "Type                                                              put\n",
       "Symbol                                            MSFT230616P00260000\n",
       "Last                                                             39.5\n",
       "                                          ...                        \n",
       "Underlying                                                       MSFT\n",
       "Underlying_Price                                                  262\n",
       "Quote_Time                                        2021-04-27 17:43:16\n",
       "Last_Trade_Date                                   2021-04-27 16:58:38\n",
       "JSON                {'contractSymbol': 'MSFT230616P00260000', 'str...\n",
       "Name: 1150, Length: 19, dtype: object"
      ]
     },
     "execution_count": 18,
     "metadata": {},
     "output_type": "execute_result"
    }
   ],
   "source": [
    "opcion_valuar"
   ]
  },
  {
   "cell_type": "code",
   "execution_count": 19,
   "metadata": {},
   "outputs": [],
   "source": [
    "from datetime import date\n",
    "Hoy = date.today()\n",
    "\n",
    "# strike price de la opción\n",
    "K = opcion_valuar['JSON']['strike']  \n",
    "\n",
    "# Fechas a simular\n",
    "dates = pd.date_range(start= Hoy, periods = ndays, freq='B')\n",
    "\n",
    "# Escenarios y número de días\n",
    "ndays = len(dates)\n",
    "nscen = 100000\n",
    "\n",
    "# Condición inicial del precio a simular\n",
    "S0 = closes_micro.iloc[-1,0]  \n",
    "\n",
    "# simular rendimientos\n",
    "sim_ret = pd.DataFrame(sigma*np.random.randn(ndays,nscen)+r,index=dates)\n",
    "\n",
    "# Simular precios\n",
    "sim_closes = S0*np.exp(sim_ret.cumsum())"
   ]
  },
  {
   "cell_type": "code",
   "execution_count": 20,
   "metadata": {
    "scrolled": true
   },
   "outputs": [
    {
     "data": {
      "image/png": "[encoded data removed]",
      "text/plain": [
       "<Figure size 432x288 with 1 Axes>"
      ]
     },
     "metadata": {
      "needs_background": "light"
     },
     "output_type": "display_data"
    }
   ],
   "source": [
    "# Valor del put europeo\n",
    "put = pd.DataFrame({'Prima':np.exp(-r*ndays) \\\n",
    "              *np.fmax(K-sim_closes, 0).mean(axis=1)}, index=dates)\n",
    "put.plot();"
   ]
  },
  {
   "cell_type": "markdown",
   "metadata": {},
   "source": [
    "La valuación de la opción es: "
   ]
  },
  {
   "cell_type": "code",
   "execution_count": 21,
   "metadata": {},
   "outputs": [
    {
     "data": {
      "text/plain": [
       "Prima    33.895\n",
       "Name: 2023-06-16 00:00:00, dtype: float64"
      ]
     },
     "execution_count": 21,
     "metadata": {},
     "output_type": "execute_result"
    }
   ],
   "source": [
    "put.iloc[-1]"
   ]
  },
  {
   "cell_type": "markdown",
   "metadata": {},
   "source": [
    "Intervalo de confianza del 99%"
   ]
  },
  {
   "cell_type": "code",
   "execution_count": 22,
   "metadata": {},
   "outputs": [
    {
     "name": "stdout",
     "output_type": "stream",
     "text": [
      "(32.85270361923429, 34.93688705980688)\n"
     ]
    }
   ],
   "source": [
    "confianza = 0.99\n",
    "sigma_est = sim_closes.iloc[-1].sem()\n",
    "mean_est = put.iloc[-1].Prima\n",
    "i2 = st.norm.interval(confianza, loc=mean_est, scale=sigma_est)\n",
    "print(i2)"
   ]
  },
  {
   "cell_type": "markdown",
   "metadata": {},
   "source": [
    "## Precios simulados usando técnicas de reducción de varianza"
   ]
  },
  {
   "cell_type": "code",
   "execution_count": 23,
   "metadata": {},
   "outputs": [
    {
     "data": {
      "image/png": "[encoded data removed]",
      "text/plain": [
       "<Figure size 432x288 with 1 Axes>"
      ]
     },
     "metadata": {
      "needs_background": "light"
     },
     "output_type": "display_data"
    }
   ],
   "source": [
    "# Usando muestreo estratificado----> #estratros = nscen\n",
    "U = (np.arange(0,nscen)+np.random.rand(ndays,nscen))/nscen\n",
    "Z = st.norm.ppf(U)\n",
    "\n",
    "sim_ret2 = pd.DataFrame(sigma*Z+r,index=dates)\n",
    "sim_closes2 = S0*np.exp(sim_ret.cumsum())\n",
    "\n",
    "# Función de pago\n",
    "strike = pd.DataFrame(K*np.ones([ndays,nscen]), index=dates)\n",
    "put = pd.DataFrame({'Prima':np.exp(-r*ndays) \\\n",
    "              *np.fmax(strike-sim_closes2,np.zeros([ndays,nscen])).T.mean()}, index=dates)\n",
    "put.plot();"
   ]
  },
  {
   "cell_type": "markdown",
   "metadata": {},
   "source": [
    "La valuacion de la opción es:"
   ]
  },
  {
   "cell_type": "code",
   "execution_count": 24,
   "metadata": {},
   "outputs": [
    {
     "data": {
      "text/plain": [
       "Prima    33.895\n",
       "Name: 2023-06-16 00:00:00, dtype: float64"
      ]
     },
     "execution_count": 24,
     "metadata": {},
     "output_type": "execute_result"
    }
   ],
   "source": [
    "put.iloc[-1]"
   ]
  },
  {
   "cell_type": "markdown",
   "metadata": {},
   "source": [
    "Intervalo de confianza 99%"
   ]
  },
  {
   "cell_type": "code",
   "execution_count": 25,
   "metadata": {},
   "outputs": [
    {
     "name": "stdout",
     "output_type": "stream",
     "text": [
      "(32.85270361923429, 34.93688705980688)\n"
     ]
    }
   ],
   "source": [
    "confianza = 0.99\n",
    "sigma_est = sim_closes2.iloc[-1].sem()\n",
    "mean_est = put.iloc[-1].Prima\n",
    "i2 = st.norm.interval(confianza, loc=mean_est, scale=sigma_est)\n",
    "print(i2)"
   ]
  },
  {
   "cell_type": "markdown",
   "metadata": {},
   "source": [
    "### Análisis de la distribución de los rendimientos"
   ]
  },
  {
   "cell_type": "code",
   "execution_count": 26,
   "metadata": {},
   "outputs": [
    {
     "data": {
      "image/png": "[encoded data removed]",
      "text/plain": [
       "<Figure size 432x288 with 1 Axes>"
      ]
     },
     "metadata": {
      "needs_background": "light"
     },
     "output_type": "display_data"
    }
   ],
   "source": [
    "# ajustando norm \n",
    "ren = calc_daily_ret(closes_micro) # rendimientos \n",
    "y,x,_ = plt.hist(ren['MSFT'],bins=50,density=True,label='Histograma rendimientos')\n",
    "\n",
    "mu_fit,sd_fit = st.norm.fit(ren) # Se ajustan los parámetros de una normal\n",
    "# Valores máximo y mínimo de los rendiemientos a generar\n",
    "ren_max = max(x);ren_min = min(x)\n",
    "# Vector de rendimientos generados\n",
    "ren_gen = np.arange(ren_min,ren_max,0.001)\n",
    "# Generación de la normal ajustado con los parámetros encontrados\n",
    "curve_fit = st.norm.pdf(ren_gen,loc=mu_fit,scale=sd_fit)\n",
    "plt.plot(ren_gen,curve_fit,label='Distribución ajustada')\n",
    "plt.legend()\n",
    "plt.show()"
   ]
  },
  {
   "cell_type": "code",
   "execution_count": 27,
   "metadata": {},
   "outputs": [
    {
     "data": {
      "image/png": "[encoded data removed]",
      "text/plain": [
       "<Figure size 432x288 with 1 Axes>"
      ]
     },
     "metadata": {
      "needs_background": "light"
     },
     "output_type": "display_data"
    },
    {
     "data": {
      "image/png": "[encoded data removed]",
      "text/plain": [
       "<Figure size 432x288 with 1 Axes>"
      ]
     },
     "metadata": {
      "needs_background": "light"
     },
     "output_type": "display_data"
    }
   ],
   "source": [
    "# ajustando t \n",
    "# rendimientos \n",
    "ren = calc_daily_ret(closes_micro) \n",
    "\n",
    "# Histograma de los rendimientos\n",
    "y, x, _ = plt.hist(ren['MSFT'], bins=50, density=True, label='Histograma rendimientos')\n",
    "\n",
    "# Se ajustan los parámetros de una distribución\n",
    "dist = 't'\n",
    "params = getattr(st, dist).fit(ren.values) \n",
    "\n",
    "# Generación de la pdf de la distribución ajustado con los parámetros encontrados\n",
    "curve_fit = getattr(st, dist).pdf(x, *params)\n",
    "plt.plot(x, curve_fit, label='Distribución ajustada')\n",
    "plt.legend()\n",
    "plt.show()\n",
    "\n",
    "# Q-Q\n",
    "st.probplot(ren['MSFT'], sparams=params[:-2], dist=dist, plot=plt);"
   ]
  },
  {
   "cell_type": "markdown",
   "metadata": {},
   "source": [
    "## Valuación usando simulación: uso de histograma de rendimientos"
   ]
  },
  {
   "cell_type": "code",
   "execution_count": 28,
   "metadata": {},
   "outputs": [
    {
     "data": {
      "text/plain": [
       "1.0"
      ]
     },
     "execution_count": 28,
     "metadata": {},
     "output_type": "execute_result"
    }
   ],
   "source": [
    "ndays = len(dates) \n",
    "nscen = 10\n",
    "\n",
    "prob = y/np.sum(y)\n",
    "values = x[1:]\n",
    "prob.sum()"
   ]
  },
  {
   "cell_type": "code",
   "execution_count": 29,
   "metadata": {},
   "outputs": [
    {
     "data": {
      "text/html": [
       "<div>\n",
       "<style scoped>\n",
       "    .dataframe tbody tr th:only-of-type {\n",
       "        vertical-align: middle;\n",
       "    }\n",
       "\n",
       "    .dataframe tbody tr th {\n",
       "        vertical-align: top;\n",
       "    }\n",
       "\n",
       "    .dataframe thead th {\n",
       "        text-align: right;\n",
       "    }\n",
       "</style>\n",
       "<table border=\"1\" class=\"dataframe\">\n",
       "  <thead>\n",
       "    <tr style=\"text-align: right;\">\n",
       "      <th></th>\n",
       "      <th>0</th>\n",
       "      <th>1</th>\n",
       "      <th>2</th>\n",
       "      <th>...</th>\n",
       "      <th>7</th>\n",
       "      <th>8</th>\n",
       "      <th>9</th>\n",
       "    </tr>\n",
       "  </thead>\n",
       "  <tbody>\n",
       "    <tr>\n",
       "      <th>2021-04-27</th>\n",
       "      <td>-0.007</td>\n",
       "      <td>-0.013</td>\n",
       "      <td>0.010</td>\n",
       "      <td>...</td>\n",
       "      <td>-0.043</td>\n",
       "      <td>-0.031</td>\n",
       "      <td>0.034</td>\n",
       "    </tr>\n",
       "    <tr>\n",
       "      <th>2021-04-28</th>\n",
       "      <td>0.004</td>\n",
       "      <td>0.016</td>\n",
       "      <td>0.022</td>\n",
       "      <td>...</td>\n",
       "      <td>0.004</td>\n",
       "      <td>-0.002</td>\n",
       "      <td>0.010</td>\n",
       "    </tr>\n",
       "    <tr>\n",
       "      <th>2021-04-29</th>\n",
       "      <td>-0.019</td>\n",
       "      <td>0.016</td>\n",
       "      <td>-0.002</td>\n",
       "      <td>...</td>\n",
       "      <td>0.010</td>\n",
       "      <td>0.022</td>\n",
       "      <td>0.010</td>\n",
       "    </tr>\n",
       "    <tr>\n",
       "      <th>2021-04-30</th>\n",
       "      <td>-0.002</td>\n",
       "      <td>-0.002</td>\n",
       "      <td>0.022</td>\n",
       "      <td>...</td>\n",
       "      <td>-0.007</td>\n",
       "      <td>0.010</td>\n",
       "      <td>0.010</td>\n",
       "    </tr>\n",
       "    <tr>\n",
       "      <th>2021-05-01</th>\n",
       "      <td>0.016</td>\n",
       "      <td>-0.002</td>\n",
       "      <td>-0.002</td>\n",
       "      <td>...</td>\n",
       "      <td>0.016</td>\n",
       "      <td>0.028</td>\n",
       "      <td>-0.013</td>\n",
       "    </tr>\n",
       "    <tr>\n",
       "      <th>...</th>\n",
       "      <td>...</td>\n",
       "      <td>...</td>\n",
       "      <td>...</td>\n",
       "      <td>...</td>\n",
       "      <td>...</td>\n",
       "      <td>...</td>\n",
       "      <td>...</td>\n",
       "    </tr>\n",
       "    <tr>\n",
       "      <th>2022-11-02</th>\n",
       "      <td>-0.007</td>\n",
       "      <td>-0.007</td>\n",
       "      <td>0.016</td>\n",
       "      <td>...</td>\n",
       "      <td>0.028</td>\n",
       "      <td>-0.002</td>\n",
       "      <td>0.004</td>\n",
       "    </tr>\n",
       "    <tr>\n",
       "      <th>2022-11-03</th>\n",
       "      <td>0.010</td>\n",
       "      <td>-0.031</td>\n",
       "      <td>-0.002</td>\n",
       "      <td>...</td>\n",
       "      <td>0.045</td>\n",
       "      <td>0.016</td>\n",
       "      <td>0.010</td>\n",
       "    </tr>\n",
       "    <tr>\n",
       "      <th>2022-11-04</th>\n",
       "      <td>0.034</td>\n",
       "      <td>0.028</td>\n",
       "      <td>-0.002</td>\n",
       "      <td>...</td>\n",
       "      <td>-0.002</td>\n",
       "      <td>-0.007</td>\n",
       "      <td>-0.025</td>\n",
       "    </tr>\n",
       "    <tr>\n",
       "      <th>2022-11-05</th>\n",
       "      <td>-0.007</td>\n",
       "      <td>0.004</td>\n",
       "      <td>0.004</td>\n",
       "      <td>...</td>\n",
       "      <td>0.010</td>\n",
       "      <td>-0.002</td>\n",
       "      <td>-0.002</td>\n",
       "    </tr>\n",
       "    <tr>\n",
       "      <th>2022-11-06</th>\n",
       "      <td>-0.002</td>\n",
       "      <td>-0.013</td>\n",
       "      <td>0.022</td>\n",
       "      <td>...</td>\n",
       "      <td>0.010</td>\n",
       "      <td>0.028</td>\n",
       "      <td>0.016</td>\n",
       "    </tr>\n",
       "  </tbody>\n",
       "</table>\n",
       "<p>559 rows × 10 columns</p>\n",
       "</div>"
      ],
      "text/plain": [
       "                0      1      2  ...      7      8      9\n",
       "2021-04-27 -0.007 -0.013  0.010  ... -0.043 -0.031  0.034\n",
       "2021-04-28  0.004  0.016  0.022  ...  0.004 -0.002  0.010\n",
       "2021-04-29 -0.019  0.016 -0.002  ...  0.010  0.022  0.010\n",
       "2021-04-30 -0.002 -0.002  0.022  ... -0.007  0.010  0.010\n",
       "2021-05-01  0.016 -0.002 -0.002  ...  0.016  0.028 -0.013\n",
       "...           ...    ...    ...  ...    ...    ...    ...\n",
       "2022-11-02 -0.007 -0.007  0.016  ...  0.028 -0.002  0.004\n",
       "2022-11-03  0.010 -0.031 -0.002  ...  0.045  0.016  0.010\n",
       "2022-11-04  0.034  0.028 -0.002  ... -0.002 -0.007 -0.025\n",
       "2022-11-05 -0.007  0.004  0.004  ...  0.010 -0.002 -0.002\n",
       "2022-11-06 -0.002 -0.013  0.022  ...  0.010  0.028  0.016\n",
       "\n",
       "[559 rows x 10 columns]"
      ]
     },
     "execution_count": 29,
     "metadata": {},
     "output_type": "execute_result"
    }
   ],
   "source": [
    "# Rendimientos simulados\n",
    "ret = np.random.choice(values, ndays*nscen, p=prob)\n",
    "# Fechas\n",
    "dates = pd.date_range(start=Hoy,periods=ndays)\n",
    "# Rendimien en Data Frame\n",
    "sim_ret_hist = pd.DataFrame(ret.reshape((ndays,nscen)),index=dates)\n",
    "sim_ret_hist"
   ]
  },
  {
   "cell_type": "code",
   "execution_count": 30,
   "metadata": {},
   "outputs": [
    {
     "data": {
      "text/html": [
       "<div>\n",
       "<style scoped>\n",
       "    .dataframe tbody tr th:only-of-type {\n",
       "        vertical-align: middle;\n",
       "    }\n",
       "\n",
       "    .dataframe tbody tr th {\n",
       "        vertical-align: top;\n",
       "    }\n",
       "\n",
       "    .dataframe thead th {\n",
       "        text-align: right;\n",
       "    }\n",
       "</style>\n",
       "<table border=\"1\" class=\"dataframe\">\n",
       "  <thead>\n",
       "    <tr style=\"text-align: right;\">\n",
       "      <th></th>\n",
       "      <th>0</th>\n",
       "      <th>1</th>\n",
       "      <th>2</th>\n",
       "      <th>...</th>\n",
       "      <th>7</th>\n",
       "      <th>8</th>\n",
       "      <th>9</th>\n",
       "    </tr>\n",
       "  </thead>\n",
       "  <tbody>\n",
       "    <tr>\n",
       "      <th>2021-04-27</th>\n",
       "      <td>259.553</td>\n",
       "      <td>258.040</td>\n",
       "      <td>264.147</td>\n",
       "      <td>...</td>\n",
       "      <td>250.605</td>\n",
       "      <td>253.553</td>\n",
       "      <td>270.398</td>\n",
       "    </tr>\n",
       "    <tr>\n",
       "      <th>2021-04-28</th>\n",
       "      <td>260.667</td>\n",
       "      <td>262.196</td>\n",
       "      <td>269.975</td>\n",
       "      <td>...</td>\n",
       "      <td>251.680</td>\n",
       "      <td>253.156</td>\n",
       "      <td>273.151</td>\n",
       "    </tr>\n",
       "    <tr>\n",
       "      <th>2021-04-29</th>\n",
       "      <td>255.733</td>\n",
       "      <td>266.418</td>\n",
       "      <td>269.552</td>\n",
       "      <td>...</td>\n",
       "      <td>254.242</td>\n",
       "      <td>258.741</td>\n",
       "      <td>275.931</td>\n",
       "    </tr>\n",
       "    <tr>\n",
       "      <th>2021-04-30</th>\n",
       "      <td>255.332</td>\n",
       "      <td>266.001</td>\n",
       "      <td>275.499</td>\n",
       "      <td>...</td>\n",
       "      <td>252.364</td>\n",
       "      <td>261.375</td>\n",
       "      <td>278.740</td>\n",
       "    </tr>\n",
       "    <tr>\n",
       "      <th>2021-05-01</th>\n",
       "      <td>259.444</td>\n",
       "      <td>265.584</td>\n",
       "      <td>275.068</td>\n",
       "      <td>...</td>\n",
       "      <td>256.428</td>\n",
       "      <td>268.709</td>\n",
       "      <td>275.068</td>\n",
       "    </tr>\n",
       "    <tr>\n",
       "      <th>...</th>\n",
       "      <td>...</td>\n",
       "      <td>...</td>\n",
       "      <td>...</td>\n",
       "      <td>...</td>\n",
       "      <td>...</td>\n",
       "      <td>...</td>\n",
       "      <td>...</td>\n",
       "    </tr>\n",
       "    <tr>\n",
       "      <th>2022-11-02</th>\n",
       "      <td>2716.429</td>\n",
       "      <td>3372.590</td>\n",
       "      <td>4790.046</td>\n",
       "      <td>...</td>\n",
       "      <td>1136.574</td>\n",
       "      <td>5290.697</td>\n",
       "      <td>2445.037</td>\n",
       "    </tr>\n",
       "    <tr>\n",
       "      <th>2022-11-03</th>\n",
       "      <td>2744.081</td>\n",
       "      <td>3270.281</td>\n",
       "      <td>4782.546</td>\n",
       "      <td>...</td>\n",
       "      <td>1189.143</td>\n",
       "      <td>5375.900</td>\n",
       "      <td>2469.927</td>\n",
       "    </tr>\n",
       "    <tr>\n",
       "      <th>2022-11-04</th>\n",
       "      <td>2837.619</td>\n",
       "      <td>3362.037</td>\n",
       "      <td>4775.058</td>\n",
       "      <td>...</td>\n",
       "      <td>1187.281</td>\n",
       "      <td>5336.187</td>\n",
       "      <td>2409.047</td>\n",
       "    </tr>\n",
       "    <tr>\n",
       "      <th>2022-11-05</th>\n",
       "      <td>2816.657</td>\n",
       "      <td>3376.460</td>\n",
       "      <td>4795.542</td>\n",
       "      <td>...</td>\n",
       "      <td>1199.367</td>\n",
       "      <td>5327.832</td>\n",
       "      <td>2405.275</td>\n",
       "    </tr>\n",
       "    <tr>\n",
       "      <th>2022-11-06</th>\n",
       "      <td>2812.247</td>\n",
       "      <td>3331.976</td>\n",
       "      <td>4901.349</td>\n",
       "      <td>...</td>\n",
       "      <td>1211.576</td>\n",
       "      <td>5477.319</td>\n",
       "      <td>2444.010</td>\n",
       "    </tr>\n",
       "  </tbody>\n",
       "</table>\n",
       "<p>559 rows × 10 columns</p>\n",
       "</div>"
      ],
      "text/plain": [
       "                   0         1         2  ...         7         8         9\n",
       "2021-04-27   259.553   258.040   264.147  ...   250.605   253.553   270.398\n",
       "2021-04-28   260.667   262.196   269.975  ...   251.680   253.156   273.151\n",
       "2021-04-29   255.733   266.418   269.552  ...   254.242   258.741   275.931\n",
       "2021-04-30   255.332   266.001   275.499  ...   252.364   261.375   278.740\n",
       "2021-05-01   259.444   265.584   275.068  ...   256.428   268.709   275.068\n",
       "...              ...       ...       ...  ...       ...       ...       ...\n",
       "2022-11-02  2716.429  3372.590  4790.046  ...  1136.574  5290.697  2445.037\n",
       "2022-11-03  2744.081  3270.281  4782.546  ...  1189.143  5375.900  2469.927\n",
       "2022-11-04  2837.619  3362.037  4775.058  ...  1187.281  5336.187  2409.047\n",
       "2022-11-05  2816.657  3376.460  4795.542  ...  1199.367  5327.832  2405.275\n",
       "2022-11-06  2812.247  3331.976  4901.349  ...  1211.576  5477.319  2444.010\n",
       "\n",
       "[559 rows x 10 columns]"
      ]
     },
     "execution_count": 30,
     "metadata": {},
     "output_type": "execute_result"
    }
   ],
   "source": [
    "sim_closes_hist = (closes_micro.iloc[-1,0])*np.exp(sim_ret_hist.cumsum())\n",
    "sim_closes_hist"
   ]
  },
  {
   "cell_type": "code",
   "execution_count": 31,
   "metadata": {},
   "outputs": [
    {
     "data": {
      "text/plain": [
       "Text(0.5, 1.0, 'Simulación usando el histograma de los rendimientos')"
      ]
     },
     "execution_count": 31,
     "metadata": {},
     "output_type": "execute_result"
    },
    {
     "data": {
      "image/png": "[encoded data removed]",
      "text/plain": [
       "<Figure size 576x432 with 1 Axes>"
      ]
     },
     "metadata": {
      "needs_background": "light"
     },
     "output_type": "display_data"
    },
    {
     "data": {
      "image/png": "[encoded data removed]",
      "text/plain": [
       "<Figure size 576x432 with 1 Axes>"
      ]
     },
     "metadata": {
      "needs_background": "light"
     },
     "output_type": "display_data"
    }
   ],
   "source": [
    "sim_closes_hist.plot(figsize=(8,6),legend=False);\n",
    "pd.concat([closes_micro,sim_closes_hist]).plot(figsize=(8,6),legend=False);\n",
    "plt.title('Simulación usando el histograma de los rendimientos')"
   ]
  },
  {
   "cell_type": "code",
   "execution_count": 32,
   "metadata": {},
   "outputs": [],
   "source": [
    "K = opcion_valuar['JSON']['strike']\n",
    "ndays = len(dates)\n",
    "nscen = 100000\n",
    "\n",
    "# Histograma tomando la tasa libre de riesgo\n",
    "freq, values = np.histogram(ret_micro+r-mu, bins=2000)\n",
    "prob = freq/np.sum(freq)\n",
    "\n",
    "# Simulación de los rendimientos\n",
    "ret = np.random.choice(values[1:], ndays*nscen, p=prob)\n",
    "\n",
    "# Simulación de precios\n",
    "sim_ret_hist = pd.DataFrame(ret.reshape((ndays,nscen)),index=dates)\n",
    "sim_closes_hist = (closes_micro.iloc[-1,0]) * np.exp(sim_ret_hist.cumsum())"
   ]
  },
  {
   "cell_type": "code",
   "execution_count": 33,
   "metadata": {},
   "outputs": [
    {
     "data": {
      "image/png": "[encoded data removed]",
      "text/plain": [
       "<Figure size 432x288 with 1 Axes>"
      ]
     },
     "metadata": {
      "needs_background": "light"
     },
     "output_type": "display_data"
    }
   ],
   "source": [
    "strike = pd.DataFrame(K*np.ones(ndays*nscen).reshape((ndays,nscen)), index=dates)\n",
    "put_hist = pd.DataFrame({'Prima':np.exp(-r*ndays) \\\n",
    "                          *np.fmax(strike-sim_closes_hist,np.zeros(ndays*nscen).reshape((ndays,nscen))).T.mean()}, index=dates)\n",
    "put_hist.plot();"
   ]
  },
  {
   "cell_type": "code",
   "execution_count": 34,
   "metadata": {},
   "outputs": [
    {
     "data": {
      "text/plain": [
       "Prima    30.276\n",
       "Name: 2022-11-06 00:00:00, dtype: float64"
      ]
     },
     "execution_count": 34,
     "metadata": {},
     "output_type": "execute_result"
    }
   ],
   "source": [
    "put_hist.iloc[-1]"
   ]
  },
  {
   "cell_type": "code",
   "execution_count": 35,
   "metadata": {},
   "outputs": [
    {
     "data": {
      "text/plain": [
       "{'contractSymbol': 'MSFT230616P00260000',\n",
       " 'strike': 260.0,\n",
       " 'currency': 'USD',\n",
       " 'lastPrice': 39.45,\n",
       " 'change': 0.47000122,\n",
       " 'percentChange': 1.2057498,\n",
       " 'volume': 75,\n",
       " 'openInterest': 112,\n",
       " 'bid': 38.0,\n",
       " 'ask': 41.1,\n",
       " 'contractSize': 'REGULAR',\n",
       " 'expiration': 1686873600,\n",
       " 'lastTradeDate': 1619542718,\n",
       " 'impliedVolatility': 0.2771220970153808,\n",
       " 'inTheMoney': False}"
      ]
     },
     "execution_count": 35,
     "metadata": {},
     "output_type": "execute_result"
    }
   ],
   "source": [
    "opcion_valuar['JSON']"
   ]
  },
  {
   "cell_type": "markdown",
   "metadata": {},
   "source": [
    "Intervalo de confianza de 95%"
   ]
  },
  {
   "cell_type": "code",
   "execution_count": 36,
   "metadata": {},
   "outputs": [
    {
     "name": "stdout",
     "output_type": "stream",
     "text": [
      "(29.455264436125347, 31.09679698585375)\n"
     ]
    }
   ],
   "source": [
    "confianza = 0.95\n",
    "sigma_est = sim_closes_hist.iloc[-1].sem()\n",
    "mean_est = put_hist.iloc[-1].Prima\n",
    "i1 = st.t.interval(confianza,nscen-1, loc=mean_est, scale=sigma_est)\n",
    "i2 = st.norm.interval(confianza, loc=mean_est, scale=sigma_est)\n",
    "print(i1)"
   ]
  },
  {
   "cell_type": "markdown",
   "metadata": {},
   "source": [
    "# Valor teórico"
   ]
  },
  {
   "cell_type": "markdown",
   "metadata": {},
   "source": [
    "Para obtener el valor teorico simplemente sustituimos en las fórmulas de Blak & Scholes"
   ]
  },
  {
   "cell_type": "markdown",
   "metadata": {},
   "source": [
    "$$\n",
    "d_1 = \\frac{\\ln{\\frac{S_0}{K}} + (r + \\sigma^2 / 2) T}{\\sigma \\sqrt{T}}, \\quad d_2 = \\frac{\\ln{\\frac{S_0}{K}} + (r - \\sigma^2 / 2) T}{\\sigma \\sqrt{T}} \n",
    "$$\n",
    "Valor teórico de opción put\n",
    "$$\n",
    "p = K e^{-r*T} N(-d_2) - S_0 N(-d_1)\n",
    "$$"
   ]
  },
  {
   "cell_type": "markdown",
   "metadata": {},
   "source": [
    "$$\n",
    "d_1 = \\frac{\\ln{\\frac{261.51}{260}} + (\\frac{0.0006}{360} + 0.018^2 / 2) 560}{0.018 \\sqrt{560}} = 0.23\n",
    "\\quad d_2 = \\frac{\\ln{\\frac{261.51}{260}} + (\\frac{0.0006}{360} - 0.018^2 / 2) 560}{0.018 \\sqrt{560}} = -0.20\n",
    "$$"
   ]
  },
  {
   "cell_type": "code",
   "execution_count": 39,
   "metadata": {},
   "outputs": [
    {
     "data": {
      "text/plain": [
       "0.017986980386435876"
      ]
     },
     "execution_count": 39,
     "metadata": {},
     "output_type": "execute_result"
    }
   ],
   "source": [
    "sigma_R"
   ]
  },
  {
   "cell_type": "markdown",
   "metadata": {},
   "source": [
    "$$ \n",
    "p = 260 e^{\\frac{0.0006}{360}*560} * 0.5793 - (261.51*0.4090) = 43.5198\n",
    "$$"
   ]
  },
  {
   "cell_type": "markdown",
   "metadata": {},
   "source": [
    "Nota: los valores de $N(-d_1)$ y $N(-d_1)$ fueron obtenidos de tablas de distribución normal. "
   ]
  },
  {
   "cell_type": "markdown",
   "metadata": {},
   "source": [
    "# Comparación "
   ]
  },
  {
   "cell_type": "code",
   "execution_count": 47,
   "metadata": {},
   "outputs": [
    {
     "data": {
      "text/html": [
       "<div>\n",
       "<style scoped>\n",
       "    .dataframe tbody tr th:only-of-type {\n",
       "        vertical-align: middle;\n",
       "    }\n",
       "\n",
       "    .dataframe tbody tr th {\n",
       "        vertical-align: top;\n",
       "    }\n",
       "\n",
       "    .dataframe thead th {\n",
       "        text-align: right;\n",
       "    }\n",
       "</style>\n",
       "<table border=\"1\" class=\"dataframe\">\n",
       "  <thead>\n",
       "    <tr style=\"text-align: right;\">\n",
       "      <th></th>\n",
       "      <th>Valoración B&amp;S</th>\n",
       "      <th>Reducción de Var</th>\n",
       "      <th>Histograma de rend</th>\n",
       "      <th>Valor Teórico</th>\n",
       "    </tr>\n",
       "  </thead>\n",
       "  <tbody>\n",
       "    <tr>\n",
       "      <th>Vo</th>\n",
       "      <td>33.895</td>\n",
       "      <td>33.895</td>\n",
       "      <td>30.276</td>\n",
       "      <td>43.5198</td>\n",
       "    </tr>\n",
       "  </tbody>\n",
       "</table>\n",
       "</div>"
      ],
      "text/plain": [
       "   Valoración B&S Reducción de Var Histograma de rend Valor Teórico\n",
       "Vo         33.895           33.895             30.276       43.5198"
      ]
     },
     "execution_count": 47,
     "metadata": {},
     "output_type": "execute_result"
    }
   ],
   "source": [
    "comp = pd.DataFrame(index=['Vo'], columns = ['Valoración B&S', 'Reducción de Var', 'Histograma de rend', 'Valor Teórico'])\n",
    "comp['Valoración B&S'] = '33.895'\n",
    "comp['Reducción de Var'] = '33.895'\n",
    "comp['Histograma de rend'] = '30.276'\n",
    "comp['Valor Teórico'] = '43.5198'\n",
    "comp"
   ]
  },
  {
   "cell_type": "markdown",
   "metadata": {},
   "source": [
    "Dado que el valor real de la opción es de **39.45**, podemos observar que si bien las estimaciones no son identicas, el valor se aproxima lo suficiente. \n",
    "Entre el valor teórico y los valores obtenidos por medio de simulaciones hay una diferencia de aproximadamente 10 unidades. "
   ]
  },
  {
   "cell_type": "markdown",
   "metadata": {},
   "source": [
    "### Solución Diego Pintor\n"
   ]
  },
  {
   "cell_type": "code",
   "execution_count": 3,
   "metadata": {},
   "outputs": [],
   "source": [
    "#importar los paquetes que se van a usar\n",
    "import pandas as pd\n",
    "import pandas_datareader.data as web\n",
    "import numpy as np\n",
    "import datetime\n",
    "import matplotlib.pyplot as plt\n",
    "import scipy.stats as st\n",
    "import seaborn as sns\n",
    "%matplotlib inline\n",
    "#algunas opciones para Pandas\n",
    "pd.set_option('display.notebook_repr_html', True)\n",
    "pd.set_option('display.max_columns', 6)\n",
    "pd.set_option('display.max_rows', 10)\n",
    "pd.set_option('display.width', 78)\n",
    "pd.set_option('precision', 3)\n",
    "# Función para descargar precios de cierre ajustados:\n",
    "def get_adj_closes(tickers, start_date=None, end_date=None):\n",
    "    # Fecha inicio por defecto (start_date='2010-01-01') y fecha fin por defecto (end_date=today)\n",
    "    # Descargamos DataFrame con todos los datos\n",
    "    closes = web.DataReader(name=tickers, data_source='yahoo', start=start_date, end=end_date)\n",
    "    # Solo necesitamos los precios ajustados en el cierre\n",
    "    closes = closes['Adj Close']\n",
    "    # Se ordenan los índices de manera ascendente\n",
    "    closes.sort_index(inplace=True)\n",
    "    return closes"
   ]
  },
  {
   "cell_type": "code",
   "execution_count": 4,
   "metadata": {},
   "outputs": [],
   "source": [
    "aapl = web.YahooOptions('AAPL')\n",
    "aapl_opt = aapl.get_all_data().reset_index()\n",
    "aapl_opt = aapl_opt.set_index('Expiry')"
   ]
  },
  {
   "cell_type": "code",
   "execution_count": 52,
   "metadata": {},
   "outputs": [],
   "source": [
    "def calc_daily_ret(closes):\n",
    "    return np.log(closes/closes.shift(1)).iloc[1:]\n",
    "ticker = ['AAPL']\n",
    "start_date = '2017-01-01'\n",
    "closes_aapl = get_adj_closes(ticker, start_date)\n",
    "ret_aapl = calc_daily_ret(closes_aapl)\n",
    "# Obtenemos el rendimiento simple\n",
    "Ri = closes_aapl.pct_change(1).iloc[1:]\n",
    "# Obtenemos su media y desviación estándar de los rendimientos\n",
    "mu = ret_aapl.mean()[0]\n",
    "sigma = ret_aapl.std()[0]\n",
    "mu, sigma\n",
    "\n",
    "aapl_opt = aapl.get_all_data().reset_index()\n",
    "K = 135\n",
    "indice_opt = aapl_opt.loc[(aapl_opt.Type=='put') & (aapl_opt.Strike==K) & (aapl_opt.Expiry=='2022-09-16')]\n",
    "i_opt= indice_opt.index\n",
    "opcion_valuar = aapl_opt.loc[i_opt[0]]"
   ]
  },
  {
   "cell_type": "code",
   "execution_count": 77,
   "metadata": {
    "scrolled": true
   },
   "outputs": [],
   "source": [
    "# Fechas de simulaciones\n",
    "from datetime import date\n",
    "today = pd.to_datetime(date.today())\n",
    "\n",
    "# Obtener fecha de cierre de la opción a valuar\n",
    "expiry = opcion_valuar.Expiry\n",
    "dates = pd.date_range(today, expiry, freq='B')\n",
    "\n",
    "ndays = len(dates)\n",
    "dates = pd.date_range(start= Hoy, periods = ndays, freq='B')\n",
    "# Generando histograma de rendimientos\n",
    "ren = calc_daily_ret(closes_aapl) \n",
    "y, x = np.histogram(ren['AAPL'], bins=50, density=True)"
   ]
  },
  {
   "cell_type": "code",
   "execution_count": 79,
   "metadata": {},
   "outputs": [],
   "source": [
    "prob = y/np.sum(y)\n",
    "values = x[1:]\n"
   ]
  },
  {
   "cell_type": "code",
   "execution_count": 80,
   "metadata": {},
   "outputs": [],
   "source": [
    "nscen = 10000\n",
    "# Rendimientos simulados\n",
    "ret = np.random.choice(values, ndays*nscen, p=prob)\n",
    "# Fechas\n",
    "dates = pd.date_range(start=Hoy,periods=ndays)\n",
    "# Rendimien en Data Frame\n",
    "sim_ret_hist = pd.DataFrame(ret.reshape((ndays,nscen)),index=dates)\n",
    "sim_ret_hist\n",
    "sim_closes_hist = (closes_aapl.iloc[-1,0])*np.exp(sim_ret_hist.cumsum())\n"
   ]
  },
  {
   "cell_type": "code",
   "execution_count": 81,
   "metadata": {},
   "outputs": [],
   "source": [
    "K = opcion_valuar['JSON']['strike']\n",
    "ndays = len(dates)\n",
    "nscen = 100000\n",
    "\n",
    "\n",
    "# Tasa de bonos de 1 yr de fecha 21/04/2021 -> 7%\n",
    "r = 0.007/360 # Tasa diaria\n",
    "\n",
    "# Histograma tomando la tasa libre de riesgo\n",
    "freq, values = np.histogram(ret_aapl+r-mu, bins=2000)\n",
    "prob = freq/np.sum(freq)\n",
    "\n",
    "# Simulación de los rendimientos\n",
    "ret = np.random.choice(values[1:], ndays*nscen, p=prob)\n",
    "\n",
    "\n",
    "# Simulación de precios\n",
    "sim_ret_hist = pd.DataFrame(ret.reshape((ndays,nscen)),index=dates)\n",
    "sim_closes_hist = (closes_aapl.iloc[-1,0]) * np.exp(sim_ret_hist.cumsum())"
   ]
  },
  {
   "cell_type": "code",
   "execution_count": 82,
   "metadata": {
    "scrolled": true
   },
   "outputs": [],
   "source": [
    "strike = pd.DataFrame(K*np.ones(ndays*nscen).reshape((ndays,nscen)), index=dates)\n",
    "call_hist = pd.DataFrame({'Prima':np.exp(-r*ndays) \\\n",
    "                          *np.fmax(strike-sim_closes_hist,np.zeros(ndays*nscen).reshape((ndays,nscen))).T.mean()}, index=dates)\n"
   ]
  },
  {
   "cell_type": "code",
   "execution_count": 83,
   "metadata": {},
   "outputs": [
    {
     "name": "stdout",
     "output_type": "stream",
     "text": [
      "(14.460483030456672, 15.189275057312912)\n",
      "(14.460483030456672, 15.189275057312912)\n"
     ]
    }
   ],
   "source": [
    "confianza = 0.95\n",
    "sigma_est = sim_closes_hist.iloc[-1].sem()\n",
    "mean_est = call_hist.iloc[-1].Prima\n",
    "i1 = st.t.interval(confianza,nscen-1, loc=mean_est, scale=sigma_est)\n",
    "i2 = st.norm.interval(confianza, loc=mean_est, scale=sigma_est)\n",
    "print(i1)\n",
    "print(i1)\n"
   ]
  },
  {
   "cell_type": "code",
   "execution_count": 84,
   "metadata": {},
   "outputs": [
    {
     "data": {
      "text/plain": [
       "{'contractSymbol': 'AAPL220916P00135000',\n",
       " 'strike': 135.0,\n",
       " 'currency': 'USD',\n",
       " 'lastPrice': 19.4,\n",
       " 'change': 0.0,\n",
       " 'percentChange': 0.0,\n",
       " 'volume': 2,\n",
       " 'openInterest': 1621,\n",
       " 'bid': 19.5,\n",
       " 'ask': 19.75,\n",
       " 'contractSize': 'REGULAR',\n",
       " 'expiration': 1663286400,\n",
       " 'lastTradeDate': 1619465019,\n",
       " 'impliedVolatility': 0.3105232522583008,\n",
       " 'inTheMoney': True}"
      ]
     },
     "execution_count": 84,
     "metadata": {},
     "output_type": "execute_result"
    }
   ],
   "source": [
    "opcion_valuar[\"JSON\"]"
   ]
  },
  {
   "cell_type": "code",
   "execution_count": 120,
   "metadata": {},
   "outputs": [
    {
     "data": {
      "text/plain": [
       "array([14.82487904])"
      ]
     },
     "execution_count": 120,
     "metadata": {},
     "output_type": "execute_result"
    }
   ],
   "source": [
    "call_hist.iloc[-1].values"
   ]
  },
  {
   "cell_type": "markdown",
   "metadata": {},
   "source": [
    "### Comparando Resultados con Black Scholes"
   ]
  },
  {
   "cell_type": "code",
   "execution_count": 117,
   "metadata": {
    "scrolled": true
   },
   "outputs": [
    {
     "name": "stdout",
     "output_type": "stream",
     "text": [
      "Volatilidad anual 0.31638434493720957\n",
      "Tiempo de maduración 364 días\n",
      "Spot price 134.7050018310547\n",
      "Strike Price 135.0\n",
      "Tasa Libre de riesgo 0.7000000000000001\n"
     ]
    }
   ],
   "source": [
    "# Datos para usar en la fórmula (anualizados)\n",
    "vol = ren[\"AAPL\"].std()*np.sqrt(252)\n",
    "media = ren[\"AAPL\"].mean()*252\n",
    "maduracion = ndays\n",
    "st = closes_aapl.iloc[-1,0]\n",
    "rf = r*360\n",
    "print(\"Volatilidad anual\",vol)\n",
    "print(\"Tiempo de maduración\",maduracion,\"días\")\n",
    "print(\"Spot price\",st)\n",
    "print(\"Strike Price\",K)\n",
    "print(\"Tasa Libre de riesgo\",r*360*100)\n"
   ]
  },
  {
   "cell_type": "code",
   "execution_count": 122,
   "metadata": {},
   "outputs": [
    {
     "name": "stdout",
     "output_type": "stream",
     "text": [
      "El valor de la opción con Black Scholes es: 16.56963837424412 y el valor de la opción simulado es de: [14.82487904]\n"
     ]
    }
   ],
   "source": [
    "#Black Scholes\n",
    "from scipy.stats import norm\n",
    "d1 = (np.log(st/K)+(rf+(vol**2)/2))/vol\n",
    "d2 = d1-vol\n",
    "put = K*np.exp(-rf)*norm.cdf(-d2)-st*norm.cdf(-d1)\n",
    "print(\"El valor de la opción con Black Scholes es:\",put,\"y el valor de la opción simulado es de:\",call_hist.iloc[-1].values)"
   ]
  },
  {
   "cell_type": "code",
   "execution_count": null,
   "metadata": {},
   "outputs": [],
   "source": []
  }
 ],
 "metadata": {
  "kernelspec": {
   "display_name": "Python 3",
   "language": "python",
   "name": "python3"
  },
  "language_info": {
   "codemirror_mode": {
    "name": "ipython",
    "version": 3
   },
   "file_extension": ".py",
   "mimetype": "text/x-python",
   "name": "python",
   "nbconvert_exporter": "python",
   "pygments_lexer": "ipython3",
   "version": "3.8.5"
  }
 },
 "nbformat": 4,
 "nbformat_minor": 2
}
